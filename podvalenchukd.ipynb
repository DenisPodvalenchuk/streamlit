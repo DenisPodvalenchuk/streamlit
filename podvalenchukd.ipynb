{
 "cells": [
  {
   "cell_type": "markdown",
   "id": "5d710621",
   "metadata": {
    "_cell_guid": "b1076dfc-b9ad-4769-8c92-a6c4dae69d19",
    "_uuid": "8f2839f25d086af736a60e9eeb907d3b93b6e0e5",
    "execution": {
     "iopub.execute_input": "2023-02-23T07:48:23.979414Z",
     "iopub.status.busy": "2023-02-23T07:48:23.978937Z",
     "iopub.status.idle": "2023-02-23T07:48:23.991074Z",
     "shell.execute_reply": "2023-02-23T07:48:23.989468Z",
     "shell.execute_reply.started": "2023-02-23T07:48:23.979381Z"
    },
    "papermill": {
     "duration": 0.020958,
     "end_time": "2023-02-27T17:31:18.592197",
     "exception": false,
     "start_time": "2023-02-27T17:31:18.571239",
     "status": "completed"
    },
    "tags": []
   },
   "source": [
    "# ****Import Libraries****"
   ]
  },
  {
   "cell_type": "code",
   "execution_count": 5,
   "id": "605006a3",
   "metadata": {
    "execution": {
     "iopub.execute_input": "2023-02-27T17:31:18.634962Z",
     "iopub.status.busy": "2023-02-27T17:31:18.633639Z",
     "iopub.status.idle": "2023-02-27T17:31:19.889024Z",
     "shell.execute_reply": "2023-02-27T17:31:19.888011Z"
    },
    "papermill": {
     "duration": 1.279729,
     "end_time": "2023-02-27T17:31:19.892357",
     "exception": false,
     "start_time": "2023-02-27T17:31:18.612628",
     "status": "completed"
    },
    "tags": []
   },
   "outputs": [],
   "source": [
    "import numpy as np                 # linear algebra\n",
    "import pandas as pd                # data processing, CSV file I/O (e.g. pd.read_csv)\n",
    "import matplotlib.pyplot as plt\n",
    "import seaborn as sns\n",
    "import os\n",
    "from sklearn.model_selection import train_test_split\n",
    "from sklearn.preprocessing import StandardScaler\n",
    "from sklearn.ensemble import RandomForestClassifier\n",
    "from sklearn.linear_model import LogisticRegression\n",
    "from sklearn.tree import DecisionTreeClassifier \n",
    "from sklearn.model_selection import cross_val_score\n",
    "from sklearn.metrics import accuracy_score, roc_auc_score, f1_score, precision_score, recall_score, roc_curve\n",
    "\n",
    "\n",
    "#for dirname, _, filenames in os.walk('/kaggle/input'):\n",
    " #   for filename in filenames:\n",
    "  #      print(os.path.join(dirname, filename))"
   ]
  },
  {
   "cell_type": "markdown",
   "id": "6afbea2b",
   "metadata": {
    "papermill": {
     "duration": 0.018601,
     "end_time": "2023-02-27T17:31:19.931302",
     "exception": false,
     "start_time": "2023-02-27T17:31:19.912701",
     "status": "completed"
    },
    "tags": []
   },
   "source": [
    "# ****Import Data****"
   ]
  },
  {
   "cell_type": "code",
   "execution_count": 6,
   "id": "30cf925c",
   "metadata": {
    "execution": {
     "iopub.execute_input": "2023-02-27T17:31:19.970183Z",
     "iopub.status.busy": "2023-02-27T17:31:19.969485Z",
     "iopub.status.idle": "2023-02-27T17:31:20.172687Z",
     "shell.execute_reply": "2023-02-27T17:31:20.171497Z"
    },
    "papermill": {
     "duration": 0.225099,
     "end_time": "2023-02-27T17:31:20.175067",
     "exception": false,
     "start_time": "2023-02-27T17:31:19.949968",
     "status": "completed"
    },
    "tags": []
   },
   "outputs": [
    {
     "name": "stdout",
     "output_type": "stream",
     "text": [
      "(70000, 13)\n",
      "(30000, 12)\n"
     ]
    }
   ],
   "source": [
    "# подгрузим данные для анализа\n",
    "df=pd.read_csv('c:/project-new/train.csv')\n",
    "print (df.shape)\n",
    "# подгрузим данные для теста\n",
    "df_test=pd.read_csv('c:/project-new/test.csv')\n",
    "print (df_test.shape)"
   ]
  },
  {
   "cell_type": "markdown",
   "id": "c5ceef65",
   "metadata": {
    "papermill": {
     "duration": 0.018203,
     "end_time": "2023-02-27T17:31:20.212247",
     "exception": false,
     "start_time": "2023-02-27T17:31:20.194044",
     "status": "completed"
    },
    "tags": []
   },
   "source": [
    "# ****Dataset Attributes****"
   ]
  },
  {
   "cell_type": "markdown",
   "id": "9f818afb",
   "metadata": {
    "papermill": {
     "duration": 0.019315,
     "end_time": "2023-02-27T17:31:20.250530",
     "exception": false,
     "start_time": "2023-02-27T17:31:20.231215",
     "status": "completed"
    },
    "tags": []
   },
   "source": [
    "Признаки\n",
    "- id — индекс пациента\n",
    "- age — возраст пациента\n",
    "- gender — пол пациента\n",
    "- height — рост пациента, см\n",
    "- weight — вес пациента, кг\n",
    "- ap_hi — систолическое давление(верхнее)\n",
    "- ap_lo — диастолическое давление(нижнее)\n",
    "- cholesterol — уровень холестерина\n",
    "- gluc — уровень глюкозы\n",
    "- smoke — курящий пациент\n",
    "- alco — отношение к алкоголю у пациента\n",
    "- active — физическая активность пациента\n",
    "\n",
    "Целевой признак\n",
    "- Cardio — risk of heart diseases\n"
   ]
  },
  {
   "cell_type": "code",
   "execution_count": 7,
   "id": "9de3b75c",
   "metadata": {
    "execution": {
     "iopub.execute_input": "2023-02-27T17:31:20.289958Z",
     "iopub.status.busy": "2023-02-27T17:31:20.289583Z",
     "iopub.status.idle": "2023-02-27T17:31:20.309602Z",
     "shell.execute_reply": "2023-02-27T17:31:20.308534Z"
    },
    "papermill": {
     "duration": 0.042097,
     "end_time": "2023-02-27T17:31:20.311590",
     "exception": false,
     "start_time": "2023-02-27T17:31:20.269493",
     "status": "completed"
    },
    "tags": []
   },
   "outputs": [
    {
     "data": {
      "text/html": [
       "<div>\n",
       "<style scoped>\n",
       "    .dataframe tbody tr th:only-of-type {\n",
       "        vertical-align: middle;\n",
       "    }\n",
       "\n",
       "    .dataframe tbody tr th {\n",
       "        vertical-align: top;\n",
       "    }\n",
       "\n",
       "    .dataframe thead th {\n",
       "        text-align: right;\n",
       "    }\n",
       "</style>\n",
       "<table border=\"1\" class=\"dataframe\">\n",
       "  <thead>\n",
       "    <tr style=\"text-align: right;\">\n",
       "      <th></th>\n",
       "      <th>id</th>\n",
       "      <th>age</th>\n",
       "      <th>gender</th>\n",
       "      <th>height</th>\n",
       "      <th>weight</th>\n",
       "      <th>ap_hi</th>\n",
       "      <th>ap_lo</th>\n",
       "      <th>cholesterol</th>\n",
       "      <th>gluc</th>\n",
       "      <th>smoke</th>\n",
       "      <th>alco</th>\n",
       "      <th>active</th>\n",
       "      <th>cardio</th>\n",
       "    </tr>\n",
       "  </thead>\n",
       "  <tbody>\n",
       "    <tr>\n",
       "      <th>0</th>\n",
       "      <td>0</td>\n",
       "      <td>18393</td>\n",
       "      <td>2</td>\n",
       "      <td>168</td>\n",
       "      <td>62.0</td>\n",
       "      <td>110</td>\n",
       "      <td>80</td>\n",
       "      <td>1</td>\n",
       "      <td>1</td>\n",
       "      <td>0</td>\n",
       "      <td>0</td>\n",
       "      <td>1</td>\n",
       "      <td>0</td>\n",
       "    </tr>\n",
       "    <tr>\n",
       "      <th>1</th>\n",
       "      <td>1</td>\n",
       "      <td>20228</td>\n",
       "      <td>1</td>\n",
       "      <td>156</td>\n",
       "      <td>85.0</td>\n",
       "      <td>140</td>\n",
       "      <td>90</td>\n",
       "      <td>3</td>\n",
       "      <td>1</td>\n",
       "      <td>0</td>\n",
       "      <td>0</td>\n",
       "      <td>1</td>\n",
       "      <td>1</td>\n",
       "    </tr>\n",
       "    <tr>\n",
       "      <th>2</th>\n",
       "      <td>2</td>\n",
       "      <td>18857</td>\n",
       "      <td>1</td>\n",
       "      <td>165</td>\n",
       "      <td>64.0</td>\n",
       "      <td>130</td>\n",
       "      <td>70</td>\n",
       "      <td>3</td>\n",
       "      <td>1</td>\n",
       "      <td>0</td>\n",
       "      <td>0</td>\n",
       "      <td>0</td>\n",
       "      <td>1</td>\n",
       "    </tr>\n",
       "    <tr>\n",
       "      <th>3</th>\n",
       "      <td>3</td>\n",
       "      <td>17623</td>\n",
       "      <td>2</td>\n",
       "      <td>169</td>\n",
       "      <td>82.0</td>\n",
       "      <td>150</td>\n",
       "      <td>100</td>\n",
       "      <td>1</td>\n",
       "      <td>1</td>\n",
       "      <td>0</td>\n",
       "      <td>0</td>\n",
       "      <td>1</td>\n",
       "      <td>1</td>\n",
       "    </tr>\n",
       "    <tr>\n",
       "      <th>4</th>\n",
       "      <td>4</td>\n",
       "      <td>17474</td>\n",
       "      <td>1</td>\n",
       "      <td>156</td>\n",
       "      <td>56.0</td>\n",
       "      <td>100</td>\n",
       "      <td>60</td>\n",
       "      <td>1</td>\n",
       "      <td>1</td>\n",
       "      <td>0</td>\n",
       "      <td>0</td>\n",
       "      <td>0</td>\n",
       "      <td>0</td>\n",
       "    </tr>\n",
       "  </tbody>\n",
       "</table>\n",
       "</div>"
      ],
      "text/plain": [
       "   id    age  gender  height  weight  ap_hi  ap_lo  cholesterol  gluc  smoke  \\\n",
       "0   0  18393       2     168    62.0    110     80            1     1      0   \n",
       "1   1  20228       1     156    85.0    140     90            3     1      0   \n",
       "2   2  18857       1     165    64.0    130     70            3     1      0   \n",
       "3   3  17623       2     169    82.0    150    100            1     1      0   \n",
       "4   4  17474       1     156    56.0    100     60            1     1      0   \n",
       "\n",
       "   alco  active  cardio  \n",
       "0     0       1       0  \n",
       "1     0       1       1  \n",
       "2     0       0       1  \n",
       "3     0       1       1  \n",
       "4     0       0       0  "
      ]
     },
     "execution_count": 7,
     "metadata": {},
     "output_type": "execute_result"
    }
   ],
   "source": [
    "# посмотрим на данные\n",
    "df.head(5)"
   ]
  },
  {
   "cell_type": "code",
   "execution_count": 8,
   "id": "02a30fa5",
   "metadata": {
    "execution": {
     "iopub.execute_input": "2023-02-27T17:31:20.351169Z",
     "iopub.status.busy": "2023-02-27T17:31:20.350468Z",
     "iopub.status.idle": "2023-02-27T17:31:20.363589Z",
     "shell.execute_reply": "2023-02-27T17:31:20.362950Z"
    },
    "papermill": {
     "duration": 0.035441,
     "end_time": "2023-02-27T17:31:20.365892",
     "exception": false,
     "start_time": "2023-02-27T17:31:20.330451",
     "status": "completed"
    },
    "tags": []
   },
   "outputs": [
    {
     "data": {
      "text/html": [
       "<div>\n",
       "<style scoped>\n",
       "    .dataframe tbody tr th:only-of-type {\n",
       "        vertical-align: middle;\n",
       "    }\n",
       "\n",
       "    .dataframe tbody tr th {\n",
       "        vertical-align: top;\n",
       "    }\n",
       "\n",
       "    .dataframe thead th {\n",
       "        text-align: right;\n",
       "    }\n",
       "</style>\n",
       "<table border=\"1\" class=\"dataframe\">\n",
       "  <thead>\n",
       "    <tr style=\"text-align: right;\">\n",
       "      <th></th>\n",
       "      <th>id</th>\n",
       "      <th>age</th>\n",
       "      <th>gender</th>\n",
       "      <th>height</th>\n",
       "      <th>weight</th>\n",
       "      <th>ap_hi</th>\n",
       "      <th>ap_lo</th>\n",
       "      <th>cholesterol</th>\n",
       "      <th>gluc</th>\n",
       "      <th>smoke</th>\n",
       "      <th>alco</th>\n",
       "      <th>active</th>\n",
       "    </tr>\n",
       "  </thead>\n",
       "  <tbody>\n",
       "    <tr>\n",
       "      <th>0</th>\n",
       "      <td>5</td>\n",
       "      <td>18888</td>\n",
       "      <td>1</td>\n",
       "      <td>154</td>\n",
       "      <td>85.0</td>\n",
       "      <td>130</td>\n",
       "      <td>80</td>\n",
       "      <td>1</td>\n",
       "      <td>1</td>\n",
       "      <td>0</td>\n",
       "      <td>0</td>\n",
       "      <td>1</td>\n",
       "    </tr>\n",
       "    <tr>\n",
       "      <th>1</th>\n",
       "      <td>6</td>\n",
       "      <td>19042</td>\n",
       "      <td>2</td>\n",
       "      <td>170</td>\n",
       "      <td>69.0</td>\n",
       "      <td>130</td>\n",
       "      <td>90</td>\n",
       "      <td>1</td>\n",
       "      <td>1</td>\n",
       "      <td>0</td>\n",
       "      <td>0</td>\n",
       "      <td>1</td>\n",
       "    </tr>\n",
       "    <tr>\n",
       "      <th>2</th>\n",
       "      <td>7</td>\n",
       "      <td>20432</td>\n",
       "      <td>1</td>\n",
       "      <td>160</td>\n",
       "      <td>70.0</td>\n",
       "      <td>120</td>\n",
       "      <td>75</td>\n",
       "      <td>1</td>\n",
       "      <td>1</td>\n",
       "      <td>0</td>\n",
       "      <td>0</td>\n",
       "      <td>0</td>\n",
       "    </tr>\n",
       "    <tr>\n",
       "      <th>3</th>\n",
       "      <td>10</td>\n",
       "      <td>18133</td>\n",
       "      <td>2</td>\n",
       "      <td>185</td>\n",
       "      <td>94.0</td>\n",
       "      <td>130</td>\n",
       "      <td>90</td>\n",
       "      <td>1</td>\n",
       "      <td>1</td>\n",
       "      <td>0</td>\n",
       "      <td>0</td>\n",
       "      <td>1</td>\n",
       "    </tr>\n",
       "    <tr>\n",
       "      <th>4</th>\n",
       "      <td>11</td>\n",
       "      <td>16093</td>\n",
       "      <td>2</td>\n",
       "      <td>170</td>\n",
       "      <td>76.0</td>\n",
       "      <td>120</td>\n",
       "      <td>80</td>\n",
       "      <td>1</td>\n",
       "      <td>1</td>\n",
       "      <td>0</td>\n",
       "      <td>0</td>\n",
       "      <td>1</td>\n",
       "    </tr>\n",
       "  </tbody>\n",
       "</table>\n",
       "</div>"
      ],
      "text/plain": [
       "   id    age  gender  height  weight  ap_hi  ap_lo  cholesterol  gluc  smoke  \\\n",
       "0   5  18888       1     154    85.0    130     80            1     1      0   \n",
       "1   6  19042       2     170    69.0    130     90            1     1      0   \n",
       "2   7  20432       1     160    70.0    120     75            1     1      0   \n",
       "3  10  18133       2     185    94.0    130     90            1     1      0   \n",
       "4  11  16093       2     170    76.0    120     80            1     1      0   \n",
       "\n",
       "   alco  active  \n",
       "0     0       1  \n",
       "1     0       1  \n",
       "2     0       0  \n",
       "3     0       1  \n",
       "4     0       1  "
      ]
     },
     "execution_count": 8,
     "metadata": {},
     "output_type": "execute_result"
    }
   ],
   "source": [
    "df_test.head(5)"
   ]
  },
  {
   "cell_type": "code",
   "execution_count": 9,
   "id": "725d254c",
   "metadata": {
    "execution": {
     "iopub.execute_input": "2023-02-27T17:31:20.405217Z",
     "iopub.status.busy": "2023-02-27T17:31:20.404408Z",
     "iopub.status.idle": "2023-02-27T17:31:20.428132Z",
     "shell.execute_reply": "2023-02-27T17:31:20.426804Z"
    },
    "papermill": {
     "duration": 0.04553,
     "end_time": "2023-02-27T17:31:20.430120",
     "exception": false,
     "start_time": "2023-02-27T17:31:20.384590",
     "status": "completed"
    },
    "tags": []
   },
   "outputs": [
    {
     "name": "stdout",
     "output_type": "stream",
     "text": [
      "<class 'pandas.core.frame.DataFrame'>\n",
      "RangeIndex: 70000 entries, 0 to 69999\n",
      "Data columns (total 13 columns):\n",
      " #   Column       Non-Null Count  Dtype  \n",
      "---  ------       --------------  -----  \n",
      " 0   id           70000 non-null  int64  \n",
      " 1   age          70000 non-null  int64  \n",
      " 2   gender       70000 non-null  int64  \n",
      " 3   height       70000 non-null  int64  \n",
      " 4   weight       70000 non-null  float64\n",
      " 5   ap_hi        70000 non-null  int64  \n",
      " 6   ap_lo        70000 non-null  int64  \n",
      " 7   cholesterol  70000 non-null  int64  \n",
      " 8   gluc         70000 non-null  int64  \n",
      " 9   smoke        70000 non-null  int64  \n",
      " 10  alco         70000 non-null  int64  \n",
      " 11  active       70000 non-null  int64  \n",
      " 12  cardio       70000 non-null  int64  \n",
      "dtypes: float64(1), int64(12)\n",
      "memory usage: 6.9 MB\n"
     ]
    }
   ],
   "source": [
    "# изучим сводную информацию о данных\n",
    "df.info()"
   ]
  },
  {
   "cell_type": "code",
   "execution_count": 10,
   "id": "9b155540",
   "metadata": {
    "execution": {
     "iopub.execute_input": "2023-02-27T17:31:20.469219Z",
     "iopub.status.busy": "2023-02-27T17:31:20.468565Z",
     "iopub.status.idle": "2023-02-27T17:31:20.480517Z",
     "shell.execute_reply": "2023-02-27T17:31:20.479304Z"
    },
    "papermill": {
     "duration": 0.033472,
     "end_time": "2023-02-27T17:31:20.482710",
     "exception": false,
     "start_time": "2023-02-27T17:31:20.449238",
     "status": "completed"
    },
    "tags": []
   },
   "outputs": [
    {
     "name": "stdout",
     "output_type": "stream",
     "text": [
      "<class 'pandas.core.frame.DataFrame'>\n",
      "RangeIndex: 30000 entries, 0 to 29999\n",
      "Data columns (total 12 columns):\n",
      " #   Column       Non-Null Count  Dtype  \n",
      "---  ------       --------------  -----  \n",
      " 0   id           30000 non-null  int64  \n",
      " 1   age          30000 non-null  int64  \n",
      " 2   gender       30000 non-null  int64  \n",
      " 3   height       30000 non-null  int64  \n",
      " 4   weight       30000 non-null  float64\n",
      " 5   ap_hi        30000 non-null  int64  \n",
      " 6   ap_lo        30000 non-null  int64  \n",
      " 7   cholesterol  30000 non-null  int64  \n",
      " 8   gluc         30000 non-null  int64  \n",
      " 9   smoke        30000 non-null  int64  \n",
      " 10  alco         30000 non-null  int64  \n",
      " 11  active       30000 non-null  int64  \n",
      "dtypes: float64(1), int64(11)\n",
      "memory usage: 2.7 MB\n"
     ]
    }
   ],
   "source": [
    "df_test.info()"
   ]
  },
  {
   "cell_type": "code",
   "execution_count": 11,
   "id": "f4607fd7",
   "metadata": {
    "execution": {
     "iopub.execute_input": "2023-02-27T17:31:20.522418Z",
     "iopub.status.busy": "2023-02-27T17:31:20.521911Z",
     "iopub.status.idle": "2023-02-27T17:31:20.530307Z",
     "shell.execute_reply": "2023-02-27T17:31:20.529485Z"
    },
    "papermill": {
     "duration": 0.030174,
     "end_time": "2023-02-27T17:31:20.532156",
     "exception": false,
     "start_time": "2023-02-27T17:31:20.501982",
     "status": "completed"
    },
    "tags": []
   },
   "outputs": [
    {
     "data": {
      "text/plain": [
       "id             0\n",
       "age            0\n",
       "gender         0\n",
       "height         0\n",
       "weight         0\n",
       "ap_hi          0\n",
       "ap_lo          0\n",
       "cholesterol    0\n",
       "gluc           0\n",
       "smoke          0\n",
       "alco           0\n",
       "active         0\n",
       "cardio         0\n",
       "dtype: int64"
      ]
     },
     "execution_count": 11,
     "metadata": {},
     "output_type": "execute_result"
    }
   ],
   "source": [
    "# проверим датафрейм на пропуски\n",
    "df.isna().sum()"
   ]
  },
  {
   "cell_type": "code",
   "execution_count": 12,
   "id": "157d6f99",
   "metadata": {
    "execution": {
     "iopub.execute_input": "2023-02-27T17:31:20.571872Z",
     "iopub.status.busy": "2023-02-27T17:31:20.571341Z",
     "iopub.status.idle": "2023-02-27T17:31:20.580078Z",
     "shell.execute_reply": "2023-02-27T17:31:20.579246Z"
    },
    "papermill": {
     "duration": 0.030814,
     "end_time": "2023-02-27T17:31:20.581924",
     "exception": false,
     "start_time": "2023-02-27T17:31:20.551110",
     "status": "completed"
    },
    "tags": []
   },
   "outputs": [
    {
     "data": {
      "text/plain": [
       "id             0\n",
       "age            0\n",
       "gender         0\n",
       "height         0\n",
       "weight         0\n",
       "ap_hi          0\n",
       "ap_lo          0\n",
       "cholesterol    0\n",
       "gluc           0\n",
       "smoke          0\n",
       "alco           0\n",
       "active         0\n",
       "dtype: int64"
      ]
     },
     "execution_count": 12,
     "metadata": {},
     "output_type": "execute_result"
    }
   ],
   "source": [
    "df_test.isna().sum()"
   ]
  },
  {
   "cell_type": "code",
   "execution_count": 13,
   "id": "c1455983",
   "metadata": {
    "execution": {
     "iopub.execute_input": "2023-02-27T17:31:20.622940Z",
     "iopub.status.busy": "2023-02-27T17:31:20.622362Z",
     "iopub.status.idle": "2023-02-27T17:31:20.651493Z",
     "shell.execute_reply": "2023-02-27T17:31:20.650415Z"
    },
    "papermill": {
     "duration": 0.051719,
     "end_time": "2023-02-27T17:31:20.653443",
     "exception": false,
     "start_time": "2023-02-27T17:31:20.601724",
     "status": "completed"
    },
    "tags": []
   },
   "outputs": [
    {
     "data": {
      "text/plain": [
       "0"
      ]
     },
     "execution_count": 13,
     "metadata": {},
     "output_type": "execute_result"
    }
   ],
   "source": [
    "# проверим датафрейм на дубликаты\n",
    "df.duplicated().sum()"
   ]
  },
  {
   "cell_type": "code",
   "execution_count": 14,
   "id": "675ea485",
   "metadata": {
    "execution": {
     "iopub.execute_input": "2023-02-27T17:31:20.695545Z",
     "iopub.status.busy": "2023-02-27T17:31:20.694921Z",
     "iopub.status.idle": "2023-02-27T17:31:20.708636Z",
     "shell.execute_reply": "2023-02-27T17:31:20.707825Z"
    },
    "papermill": {
     "duration": 0.036918,
     "end_time": "2023-02-27T17:31:20.710540",
     "exception": false,
     "start_time": "2023-02-27T17:31:20.673622",
     "status": "completed"
    },
    "tags": []
   },
   "outputs": [
    {
     "data": {
      "text/plain": [
       "0"
      ]
     },
     "execution_count": 14,
     "metadata": {},
     "output_type": "execute_result"
    }
   ],
   "source": [
    "df_test.duplicated().sum()"
   ]
  },
  {
   "cell_type": "code",
   "execution_count": 15,
   "id": "c2a107b6",
   "metadata": {
    "execution": {
     "iopub.execute_input": "2023-02-27T17:31:20.753391Z",
     "iopub.status.busy": "2023-02-27T17:31:20.752738Z",
     "iopub.status.idle": "2023-02-27T17:31:20.782890Z",
     "shell.execute_reply": "2023-02-27T17:31:20.781870Z"
    },
    "papermill": {
     "duration": 0.054017,
     "end_time": "2023-02-27T17:31:20.785072",
     "exception": false,
     "start_time": "2023-02-27T17:31:20.731055",
     "status": "completed"
    },
    "tags": []
   },
   "outputs": [
    {
     "data": {
      "text/html": [
       "<div>\n",
       "<style scoped>\n",
       "    .dataframe tbody tr th:only-of-type {\n",
       "        vertical-align: middle;\n",
       "    }\n",
       "\n",
       "    .dataframe tbody tr th {\n",
       "        vertical-align: top;\n",
       "    }\n",
       "\n",
       "    .dataframe thead th {\n",
       "        text-align: right;\n",
       "    }\n",
       "</style>\n",
       "<table border=\"1\" class=\"dataframe\">\n",
       "  <thead>\n",
       "    <tr style=\"text-align: right;\">\n",
       "      <th></th>\n",
       "      <th>id</th>\n",
       "      <th>age</th>\n",
       "      <th>gender</th>\n",
       "      <th>height</th>\n",
       "      <th>weight</th>\n",
       "      <th>ap_hi</th>\n",
       "      <th>ap_lo</th>\n",
       "      <th>cholesterol</th>\n",
       "      <th>gluc</th>\n",
       "      <th>smoke</th>\n",
       "      <th>alco</th>\n",
       "      <th>active</th>\n",
       "      <th>cardio</th>\n",
       "    </tr>\n",
       "  </thead>\n",
       "  <tbody>\n",
       "  </tbody>\n",
       "</table>\n",
       "</div>"
      ],
      "text/plain": [
       "Empty DataFrame\n",
       "Columns: [id, age, gender, height, weight, ap_hi, ap_lo, cholesterol, gluc, smoke, alco, active, cardio]\n",
       "Index: []"
      ]
     },
     "execution_count": 15,
     "metadata": {},
     "output_type": "execute_result"
    }
   ],
   "source": [
    "# Поиск повторяющихся строк во всех столбцах\n",
    "duplicateRows = df[df.duplicated ()]\n",
    "duplicateRows"
   ]
  },
  {
   "cell_type": "code",
   "execution_count": 16,
   "id": "f207f5fa",
   "metadata": {
    "execution": {
     "iopub.execute_input": "2023-02-27T17:31:20.826720Z",
     "iopub.status.busy": "2023-02-27T17:31:20.826022Z",
     "iopub.status.idle": "2023-02-27T17:31:20.842080Z",
     "shell.execute_reply": "2023-02-27T17:31:20.841207Z"
    },
    "papermill": {
     "duration": 0.03843,
     "end_time": "2023-02-27T17:31:20.843925",
     "exception": false,
     "start_time": "2023-02-27T17:31:20.805495",
     "status": "completed"
    },
    "tags": []
   },
   "outputs": [
    {
     "data": {
      "text/html": [
       "<div>\n",
       "<style scoped>\n",
       "    .dataframe tbody tr th:only-of-type {\n",
       "        vertical-align: middle;\n",
       "    }\n",
       "\n",
       "    .dataframe tbody tr th {\n",
       "        vertical-align: top;\n",
       "    }\n",
       "\n",
       "    .dataframe thead th {\n",
       "        text-align: right;\n",
       "    }\n",
       "</style>\n",
       "<table border=\"1\" class=\"dataframe\">\n",
       "  <thead>\n",
       "    <tr style=\"text-align: right;\">\n",
       "      <th></th>\n",
       "      <th>id</th>\n",
       "      <th>age</th>\n",
       "      <th>gender</th>\n",
       "      <th>height</th>\n",
       "      <th>weight</th>\n",
       "      <th>ap_hi</th>\n",
       "      <th>ap_lo</th>\n",
       "      <th>cholesterol</th>\n",
       "      <th>gluc</th>\n",
       "      <th>smoke</th>\n",
       "      <th>alco</th>\n",
       "      <th>active</th>\n",
       "    </tr>\n",
       "  </thead>\n",
       "  <tbody>\n",
       "  </tbody>\n",
       "</table>\n",
       "</div>"
      ],
      "text/plain": [
       "Empty DataFrame\n",
       "Columns: [id, age, gender, height, weight, ap_hi, ap_lo, cholesterol, gluc, smoke, alco, active]\n",
       "Index: []"
      ]
     },
     "execution_count": 16,
     "metadata": {},
     "output_type": "execute_result"
    }
   ],
   "source": [
    "duplicateRows = df_test[df_test.duplicated ()]\n",
    "duplicateRows"
   ]
  },
  {
   "cell_type": "code",
   "execution_count": 17,
   "id": "d9ae393d",
   "metadata": {
    "execution": {
     "iopub.execute_input": "2023-02-27T17:31:20.885980Z",
     "iopub.status.busy": "2023-02-27T17:31:20.885136Z",
     "iopub.status.idle": "2023-02-27T17:31:20.900703Z",
     "shell.execute_reply": "2023-02-27T17:31:20.899672Z"
    },
    "papermill": {
     "duration": 0.038905,
     "end_time": "2023-02-27T17:31:20.902787",
     "exception": false,
     "start_time": "2023-02-27T17:31:20.863882",
     "status": "completed"
    },
    "tags": []
   },
   "outputs": [
    {
     "data": {
      "text/html": [
       "<div>\n",
       "<style scoped>\n",
       "    .dataframe tbody tr th:only-of-type {\n",
       "        vertical-align: middle;\n",
       "    }\n",
       "\n",
       "    .dataframe tbody tr th {\n",
       "        vertical-align: top;\n",
       "    }\n",
       "\n",
       "    .dataframe thead th {\n",
       "        text-align: right;\n",
       "    }\n",
       "</style>\n",
       "<table border=\"1\" class=\"dataframe\">\n",
       "  <thead>\n",
       "    <tr style=\"text-align: right;\">\n",
       "      <th></th>\n",
       "      <th>age</th>\n",
       "      <th>gender</th>\n",
       "      <th>height</th>\n",
       "      <th>weight</th>\n",
       "      <th>ap_hi</th>\n",
       "      <th>ap_lo</th>\n",
       "      <th>cholesterol</th>\n",
       "      <th>gluc</th>\n",
       "      <th>smoke</th>\n",
       "      <th>alco</th>\n",
       "      <th>active</th>\n",
       "      <th>cardio</th>\n",
       "    </tr>\n",
       "  </thead>\n",
       "  <tbody>\n",
       "    <tr>\n",
       "      <th>0</th>\n",
       "      <td>18393</td>\n",
       "      <td>2</td>\n",
       "      <td>168</td>\n",
       "      <td>62.0</td>\n",
       "      <td>110</td>\n",
       "      <td>80</td>\n",
       "      <td>1</td>\n",
       "      <td>1</td>\n",
       "      <td>0</td>\n",
       "      <td>0</td>\n",
       "      <td>1</td>\n",
       "      <td>0</td>\n",
       "    </tr>\n",
       "    <tr>\n",
       "      <th>1</th>\n",
       "      <td>20228</td>\n",
       "      <td>1</td>\n",
       "      <td>156</td>\n",
       "      <td>85.0</td>\n",
       "      <td>140</td>\n",
       "      <td>90</td>\n",
       "      <td>3</td>\n",
       "      <td>1</td>\n",
       "      <td>0</td>\n",
       "      <td>0</td>\n",
       "      <td>1</td>\n",
       "      <td>1</td>\n",
       "    </tr>\n",
       "    <tr>\n",
       "      <th>2</th>\n",
       "      <td>18857</td>\n",
       "      <td>1</td>\n",
       "      <td>165</td>\n",
       "      <td>64.0</td>\n",
       "      <td>130</td>\n",
       "      <td>70</td>\n",
       "      <td>3</td>\n",
       "      <td>1</td>\n",
       "      <td>0</td>\n",
       "      <td>0</td>\n",
       "      <td>0</td>\n",
       "      <td>1</td>\n",
       "    </tr>\n",
       "    <tr>\n",
       "      <th>3</th>\n",
       "      <td>17623</td>\n",
       "      <td>2</td>\n",
       "      <td>169</td>\n",
       "      <td>82.0</td>\n",
       "      <td>150</td>\n",
       "      <td>100</td>\n",
       "      <td>1</td>\n",
       "      <td>1</td>\n",
       "      <td>0</td>\n",
       "      <td>0</td>\n",
       "      <td>1</td>\n",
       "      <td>1</td>\n",
       "    </tr>\n",
       "    <tr>\n",
       "      <th>4</th>\n",
       "      <td>17474</td>\n",
       "      <td>1</td>\n",
       "      <td>156</td>\n",
       "      <td>56.0</td>\n",
       "      <td>100</td>\n",
       "      <td>60</td>\n",
       "      <td>1</td>\n",
       "      <td>1</td>\n",
       "      <td>0</td>\n",
       "      <td>0</td>\n",
       "      <td>0</td>\n",
       "      <td>0</td>\n",
       "    </tr>\n",
       "  </tbody>\n",
       "</table>\n",
       "</div>"
      ],
      "text/plain": [
       "     age  gender  height  weight  ap_hi  ap_lo  cholesterol  gluc  smoke  \\\n",
       "0  18393       2     168    62.0    110     80            1     1      0   \n",
       "1  20228       1     156    85.0    140     90            3     1      0   \n",
       "2  18857       1     165    64.0    130     70            3     1      0   \n",
       "3  17623       2     169    82.0    150    100            1     1      0   \n",
       "4  17474       1     156    56.0    100     60            1     1      0   \n",
       "\n",
       "   alco  active  cardio  \n",
       "0     0       1       0  \n",
       "1     0       1       1  \n",
       "2     0       0       1  \n",
       "3     0       1       1  \n",
       "4     0       0       0  "
      ]
     },
     "execution_count": 17,
     "metadata": {},
     "output_type": "execute_result"
    }
   ],
   "source": [
    "# сразу удалим id и посмотрим дубликаты\n",
    "df.drop(columns='id', inplace=True)\n",
    "df.head(5)"
   ]
  },
  {
   "cell_type": "code",
   "execution_count": 18,
   "id": "c8a42bc4",
   "metadata": {
    "execution": {
     "iopub.execute_input": "2023-02-27T17:31:20.943827Z",
     "iopub.status.busy": "2023-02-27T17:31:20.943148Z",
     "iopub.status.idle": "2023-02-27T17:31:20.957117Z",
     "shell.execute_reply": "2023-02-27T17:31:20.956175Z"
    },
    "papermill": {
     "duration": 0.037158,
     "end_time": "2023-02-27T17:31:20.959436",
     "exception": false,
     "start_time": "2023-02-27T17:31:20.922278",
     "status": "completed"
    },
    "tags": []
   },
   "outputs": [
    {
     "data": {
      "text/html": [
       "<div>\n",
       "<style scoped>\n",
       "    .dataframe tbody tr th:only-of-type {\n",
       "        vertical-align: middle;\n",
       "    }\n",
       "\n",
       "    .dataframe tbody tr th {\n",
       "        vertical-align: top;\n",
       "    }\n",
       "\n",
       "    .dataframe thead th {\n",
       "        text-align: right;\n",
       "    }\n",
       "</style>\n",
       "<table border=\"1\" class=\"dataframe\">\n",
       "  <thead>\n",
       "    <tr style=\"text-align: right;\">\n",
       "      <th></th>\n",
       "      <th>age</th>\n",
       "      <th>gender</th>\n",
       "      <th>height</th>\n",
       "      <th>weight</th>\n",
       "      <th>ap_hi</th>\n",
       "      <th>ap_lo</th>\n",
       "      <th>cholesterol</th>\n",
       "      <th>gluc</th>\n",
       "      <th>smoke</th>\n",
       "      <th>alco</th>\n",
       "      <th>active</th>\n",
       "    </tr>\n",
       "  </thead>\n",
       "  <tbody>\n",
       "    <tr>\n",
       "      <th>0</th>\n",
       "      <td>18888</td>\n",
       "      <td>1</td>\n",
       "      <td>154</td>\n",
       "      <td>85.0</td>\n",
       "      <td>130</td>\n",
       "      <td>80</td>\n",
       "      <td>1</td>\n",
       "      <td>1</td>\n",
       "      <td>0</td>\n",
       "      <td>0</td>\n",
       "      <td>1</td>\n",
       "    </tr>\n",
       "    <tr>\n",
       "      <th>1</th>\n",
       "      <td>19042</td>\n",
       "      <td>2</td>\n",
       "      <td>170</td>\n",
       "      <td>69.0</td>\n",
       "      <td>130</td>\n",
       "      <td>90</td>\n",
       "      <td>1</td>\n",
       "      <td>1</td>\n",
       "      <td>0</td>\n",
       "      <td>0</td>\n",
       "      <td>1</td>\n",
       "    </tr>\n",
       "    <tr>\n",
       "      <th>2</th>\n",
       "      <td>20432</td>\n",
       "      <td>1</td>\n",
       "      <td>160</td>\n",
       "      <td>70.0</td>\n",
       "      <td>120</td>\n",
       "      <td>75</td>\n",
       "      <td>1</td>\n",
       "      <td>1</td>\n",
       "      <td>0</td>\n",
       "      <td>0</td>\n",
       "      <td>0</td>\n",
       "    </tr>\n",
       "    <tr>\n",
       "      <th>3</th>\n",
       "      <td>18133</td>\n",
       "      <td>2</td>\n",
       "      <td>185</td>\n",
       "      <td>94.0</td>\n",
       "      <td>130</td>\n",
       "      <td>90</td>\n",
       "      <td>1</td>\n",
       "      <td>1</td>\n",
       "      <td>0</td>\n",
       "      <td>0</td>\n",
       "      <td>1</td>\n",
       "    </tr>\n",
       "    <tr>\n",
       "      <th>4</th>\n",
       "      <td>16093</td>\n",
       "      <td>2</td>\n",
       "      <td>170</td>\n",
       "      <td>76.0</td>\n",
       "      <td>120</td>\n",
       "      <td>80</td>\n",
       "      <td>1</td>\n",
       "      <td>1</td>\n",
       "      <td>0</td>\n",
       "      <td>0</td>\n",
       "      <td>1</td>\n",
       "    </tr>\n",
       "  </tbody>\n",
       "</table>\n",
       "</div>"
      ],
      "text/plain": [
       "     age  gender  height  weight  ap_hi  ap_lo  cholesterol  gluc  smoke  \\\n",
       "0  18888       1     154    85.0    130     80            1     1      0   \n",
       "1  19042       2     170    69.0    130     90            1     1      0   \n",
       "2  20432       1     160    70.0    120     75            1     1      0   \n",
       "3  18133       2     185    94.0    130     90            1     1      0   \n",
       "4  16093       2     170    76.0    120     80            1     1      0   \n",
       "\n",
       "   alco  active  \n",
       "0     0       1  \n",
       "1     0       1  \n",
       "2     0       0  \n",
       "3     0       1  \n",
       "4     0       1  "
      ]
     },
     "execution_count": 18,
     "metadata": {},
     "output_type": "execute_result"
    }
   ],
   "source": [
    "df_test.drop(columns='id', inplace=True)\n",
    "df_test.head(5)"
   ]
  },
  {
   "cell_type": "code",
   "execution_count": 19,
   "id": "b726fc64",
   "metadata": {
    "execution": {
     "iopub.execute_input": "2023-02-27T17:31:21.001691Z",
     "iopub.status.busy": "2023-02-27T17:31:21.001351Z",
     "iopub.status.idle": "2023-02-27T17:31:21.022468Z",
     "shell.execute_reply": "2023-02-27T17:31:21.021558Z"
    },
    "papermill": {
     "duration": 0.044536,
     "end_time": "2023-02-27T17:31:21.024360",
     "exception": false,
     "start_time": "2023-02-27T17:31:20.979824",
     "status": "completed"
    },
    "tags": []
   },
   "outputs": [
    {
     "data": {
      "text/plain": [
       "24"
      ]
     },
     "execution_count": 19,
     "metadata": {},
     "output_type": "execute_result"
    }
   ],
   "source": [
    "# снова проверим датафрейм на дубликаты\n",
    "df.duplicated().sum()"
   ]
  },
  {
   "cell_type": "code",
   "execution_count": 20,
   "id": "7ce8ca97",
   "metadata": {
    "execution": {
     "iopub.execute_input": "2023-02-27T17:31:21.066081Z",
     "iopub.status.busy": "2023-02-27T17:31:21.065266Z",
     "iopub.status.idle": "2023-02-27T17:31:21.089021Z",
     "shell.execute_reply": "2023-02-27T17:31:21.088142Z"
    },
    "papermill": {
     "duration": 0.0469,
     "end_time": "2023-02-27T17:31:21.091273",
     "exception": false,
     "start_time": "2023-02-27T17:31:21.044373",
     "status": "completed"
    },
    "tags": []
   },
   "outputs": [
    {
     "data": {
      "text/plain": [
       "(69976, 12)"
      ]
     },
     "execution_count": 20,
     "metadata": {},
     "output_type": "execute_result"
    }
   ],
   "source": [
    "# вообще 24 из 70000 больших проблем не сделают, но все равно удалим их\n",
    "df.drop_duplicates(inplace=True)\n",
    "df.shape"
   ]
  },
  {
   "cell_type": "code",
   "execution_count": 21,
   "id": "92ba4106",
   "metadata": {
    "execution": {
     "iopub.execute_input": "2023-02-27T17:31:21.134723Z",
     "iopub.status.busy": "2023-02-27T17:31:21.134345Z",
     "iopub.status.idle": "2023-02-27T17:31:21.148188Z",
     "shell.execute_reply": "2023-02-27T17:31:21.147364Z"
    },
    "papermill": {
     "duration": 0.037909,
     "end_time": "2023-02-27T17:31:21.150130",
     "exception": false,
     "start_time": "2023-02-27T17:31:21.112221",
     "status": "completed"
    },
    "tags": []
   },
   "outputs": [
    {
     "data": {
      "text/plain": [
       "6"
      ]
     },
     "execution_count": 21,
     "metadata": {},
     "output_type": "execute_result"
    }
   ],
   "source": [
    "df_test.duplicated().sum()"
   ]
  },
  {
   "cell_type": "code",
   "execution_count": 22,
   "id": "18416b2f",
   "metadata": {
    "execution": {
     "iopub.execute_input": "2023-02-27T17:31:21.193151Z",
     "iopub.status.busy": "2023-02-27T17:31:21.192569Z",
     "iopub.status.idle": "2023-02-27T17:31:21.196670Z",
     "shell.execute_reply": "2023-02-27T17:31:21.195693Z"
    },
    "papermill": {
     "duration": 0.028191,
     "end_time": "2023-02-27T17:31:21.198806",
     "exception": false,
     "start_time": "2023-02-27T17:31:21.170615",
     "status": "completed"
    },
    "tags": []
   },
   "outputs": [],
   "source": [
    "#df_test.drop_duplicates(inplace=True)\n",
    "#df_test.shape"
   ]
  },
  {
   "cell_type": "markdown",
   "id": "e861cd26",
   "metadata": {
    "papermill": {
     "duration": 0.020515,
     "end_time": "2023-02-27T17:31:21.240916",
     "exception": false,
     "start_time": "2023-02-27T17:31:21.220401",
     "status": "completed"
    },
    "tags": []
   },
   "source": [
    "****Result of the Section:****\n",
    "1. Все данные - численные. \n",
    "2. Пропусков в данных нет\n",
    "3. Явных дубликатов нет."
   ]
  },
  {
   "cell_type": "markdown",
   "id": "f6599611",
   "metadata": {
    "papermill": {
     "duration": 0.020976,
     "end_time": "2023-02-27T17:31:21.283524",
     "exception": false,
     "start_time": "2023-02-27T17:31:21.262548",
     "status": "completed"
    },
    "tags": []
   },
   "source": [
    "# ****Data pre-processing****"
   ]
  },
  {
   "cell_type": "code",
   "execution_count": 23,
   "id": "71ae77c7",
   "metadata": {
    "execution": {
     "iopub.execute_input": "2023-02-27T17:31:21.329593Z",
     "iopub.status.busy": "2023-02-27T17:31:21.329163Z",
     "iopub.status.idle": "2023-02-27T17:31:21.339845Z",
     "shell.execute_reply": "2023-02-27T17:31:21.338960Z"
    },
    "papermill": {
     "duration": 0.036145,
     "end_time": "2023-02-27T17:31:21.341952",
     "exception": false,
     "start_time": "2023-02-27T17:31:21.305807",
     "status": "completed"
    },
    "tags": []
   },
   "outputs": [
    {
     "data": {
      "text/plain": [
       "array([18393, 20228, 18857, ..., 14925, 17727, 17926], dtype=int64)"
      ]
     },
     "execution_count": 23,
     "metadata": {},
     "output_type": "execute_result"
    }
   ],
   "source": [
    "# возраст пациента\n",
    "df['age'].unique()"
   ]
  },
  {
   "cell_type": "code",
   "execution_count": 24,
   "id": "2c72336e",
   "metadata": {
    "execution": {
     "iopub.execute_input": "2023-02-27T17:31:21.388158Z",
     "iopub.status.busy": "2023-02-27T17:31:21.387556Z",
     "iopub.status.idle": "2023-02-27T17:31:21.416213Z",
     "shell.execute_reply": "2023-02-27T17:31:21.415142Z"
    },
    "papermill": {
     "duration": 0.053451,
     "end_time": "2023-02-27T17:31:21.418282",
     "exception": false,
     "start_time": "2023-02-27T17:31:21.364831",
     "status": "completed"
    },
    "tags": []
   },
   "outputs": [
    {
     "data": {
      "text/html": [
       "<div>\n",
       "<style scoped>\n",
       "    .dataframe tbody tr th:only-of-type {\n",
       "        vertical-align: middle;\n",
       "    }\n",
       "\n",
       "    .dataframe tbody tr th {\n",
       "        vertical-align: top;\n",
       "    }\n",
       "\n",
       "    .dataframe thead th {\n",
       "        text-align: right;\n",
       "    }\n",
       "</style>\n",
       "<table border=\"1\" class=\"dataframe\">\n",
       "  <thead>\n",
       "    <tr style=\"text-align: right;\">\n",
       "      <th></th>\n",
       "      <th>gender</th>\n",
       "      <th>height</th>\n",
       "      <th>weight</th>\n",
       "      <th>ap_hi</th>\n",
       "      <th>ap_lo</th>\n",
       "      <th>cholesterol</th>\n",
       "      <th>gluc</th>\n",
       "      <th>smoke</th>\n",
       "      <th>alco</th>\n",
       "      <th>active</th>\n",
       "      <th>cardio</th>\n",
       "      <th>year</th>\n",
       "    </tr>\n",
       "  </thead>\n",
       "  <tbody>\n",
       "    <tr>\n",
       "      <th>0</th>\n",
       "      <td>2</td>\n",
       "      <td>168</td>\n",
       "      <td>62.0</td>\n",
       "      <td>110</td>\n",
       "      <td>80</td>\n",
       "      <td>1</td>\n",
       "      <td>1</td>\n",
       "      <td>0</td>\n",
       "      <td>0</td>\n",
       "      <td>1</td>\n",
       "      <td>0</td>\n",
       "      <td>50</td>\n",
       "    </tr>\n",
       "    <tr>\n",
       "      <th>1</th>\n",
       "      <td>1</td>\n",
       "      <td>156</td>\n",
       "      <td>85.0</td>\n",
       "      <td>140</td>\n",
       "      <td>90</td>\n",
       "      <td>3</td>\n",
       "      <td>1</td>\n",
       "      <td>0</td>\n",
       "      <td>0</td>\n",
       "      <td>1</td>\n",
       "      <td>1</td>\n",
       "      <td>55</td>\n",
       "    </tr>\n",
       "    <tr>\n",
       "      <th>2</th>\n",
       "      <td>1</td>\n",
       "      <td>165</td>\n",
       "      <td>64.0</td>\n",
       "      <td>130</td>\n",
       "      <td>70</td>\n",
       "      <td>3</td>\n",
       "      <td>1</td>\n",
       "      <td>0</td>\n",
       "      <td>0</td>\n",
       "      <td>0</td>\n",
       "      <td>1</td>\n",
       "      <td>51</td>\n",
       "    </tr>\n",
       "    <tr>\n",
       "      <th>3</th>\n",
       "      <td>2</td>\n",
       "      <td>169</td>\n",
       "      <td>82.0</td>\n",
       "      <td>150</td>\n",
       "      <td>100</td>\n",
       "      <td>1</td>\n",
       "      <td>1</td>\n",
       "      <td>0</td>\n",
       "      <td>0</td>\n",
       "      <td>1</td>\n",
       "      <td>1</td>\n",
       "      <td>48</td>\n",
       "    </tr>\n",
       "    <tr>\n",
       "      <th>4</th>\n",
       "      <td>1</td>\n",
       "      <td>156</td>\n",
       "      <td>56.0</td>\n",
       "      <td>100</td>\n",
       "      <td>60</td>\n",
       "      <td>1</td>\n",
       "      <td>1</td>\n",
       "      <td>0</td>\n",
       "      <td>0</td>\n",
       "      <td>0</td>\n",
       "      <td>0</td>\n",
       "      <td>47</td>\n",
       "    </tr>\n",
       "    <tr>\n",
       "      <th>5</th>\n",
       "      <td>1</td>\n",
       "      <td>151</td>\n",
       "      <td>67.0</td>\n",
       "      <td>120</td>\n",
       "      <td>80</td>\n",
       "      <td>2</td>\n",
       "      <td>2</td>\n",
       "      <td>0</td>\n",
       "      <td>0</td>\n",
       "      <td>0</td>\n",
       "      <td>0</td>\n",
       "      <td>60</td>\n",
       "    </tr>\n",
       "    <tr>\n",
       "      <th>6</th>\n",
       "      <td>1</td>\n",
       "      <td>157</td>\n",
       "      <td>93.0</td>\n",
       "      <td>130</td>\n",
       "      <td>80</td>\n",
       "      <td>3</td>\n",
       "      <td>1</td>\n",
       "      <td>0</td>\n",
       "      <td>0</td>\n",
       "      <td>1</td>\n",
       "      <td>0</td>\n",
       "      <td>60</td>\n",
       "    </tr>\n",
       "    <tr>\n",
       "      <th>7</th>\n",
       "      <td>2</td>\n",
       "      <td>178</td>\n",
       "      <td>95.0</td>\n",
       "      <td>130</td>\n",
       "      <td>90</td>\n",
       "      <td>3</td>\n",
       "      <td>3</td>\n",
       "      <td>0</td>\n",
       "      <td>0</td>\n",
       "      <td>1</td>\n",
       "      <td>1</td>\n",
       "      <td>61</td>\n",
       "    </tr>\n",
       "    <tr>\n",
       "      <th>8</th>\n",
       "      <td>1</td>\n",
       "      <td>158</td>\n",
       "      <td>71.0</td>\n",
       "      <td>110</td>\n",
       "      <td>70</td>\n",
       "      <td>1</td>\n",
       "      <td>1</td>\n",
       "      <td>0</td>\n",
       "      <td>0</td>\n",
       "      <td>1</td>\n",
       "      <td>0</td>\n",
       "      <td>48</td>\n",
       "    </tr>\n",
       "    <tr>\n",
       "      <th>9</th>\n",
       "      <td>1</td>\n",
       "      <td>164</td>\n",
       "      <td>68.0</td>\n",
       "      <td>110</td>\n",
       "      <td>60</td>\n",
       "      <td>1</td>\n",
       "      <td>1</td>\n",
       "      <td>0</td>\n",
       "      <td>0</td>\n",
       "      <td>0</td>\n",
       "      <td>0</td>\n",
       "      <td>54</td>\n",
       "    </tr>\n",
       "  </tbody>\n",
       "</table>\n",
       "</div>"
      ],
      "text/plain": [
       "   gender  height  weight  ap_hi  ap_lo  cholesterol  gluc  smoke  alco  \\\n",
       "0       2     168    62.0    110     80            1     1      0     0   \n",
       "1       1     156    85.0    140     90            3     1      0     0   \n",
       "2       1     165    64.0    130     70            3     1      0     0   \n",
       "3       2     169    82.0    150    100            1     1      0     0   \n",
       "4       1     156    56.0    100     60            1     1      0     0   \n",
       "5       1     151    67.0    120     80            2     2      0     0   \n",
       "6       1     157    93.0    130     80            3     1      0     0   \n",
       "7       2     178    95.0    130     90            3     3      0     0   \n",
       "8       1     158    71.0    110     70            1     1      0     0   \n",
       "9       1     164    68.0    110     60            1     1      0     0   \n",
       "\n",
       "   active  cardio  year  \n",
       "0       1       0    50  \n",
       "1       1       1    55  \n",
       "2       0       1    51  \n",
       "3       1       1    48  \n",
       "4       0       0    47  \n",
       "5       0       0    60  \n",
       "6       1       0    60  \n",
       "7       1       1    61  \n",
       "8       1       0    48  \n",
       "9       0       0    54  "
      ]
     },
     "execution_count": 24,
     "metadata": {},
     "output_type": "execute_result"
    }
   ],
   "source": [
    "# преобразуем значения в возраст. Создадим отдельную колонку и удалим старую.\n",
    "df['year'] = df['age'] / 365\n",
    "df['year'] = df['year'].astype(np.int64)\n",
    "df.drop(columns='age', inplace=True)\n",
    "# проверим результат \n",
    "df.head(10)"
   ]
  },
  {
   "cell_type": "code",
   "execution_count": 25,
   "id": "dcac0d00",
   "metadata": {
    "execution": {
     "iopub.execute_input": "2023-02-27T17:31:21.463444Z",
     "iopub.status.busy": "2023-02-27T17:31:21.463092Z",
     "iopub.status.idle": "2023-02-27T17:31:21.481713Z",
     "shell.execute_reply": "2023-02-27T17:31:21.480656Z"
    },
    "papermill": {
     "duration": 0.043764,
     "end_time": "2023-02-27T17:31:21.483845",
     "exception": false,
     "start_time": "2023-02-27T17:31:21.440081",
     "status": "completed"
    },
    "tags": []
   },
   "outputs": [
    {
     "data": {
      "text/html": [
       "<div>\n",
       "<style scoped>\n",
       "    .dataframe tbody tr th:only-of-type {\n",
       "        vertical-align: middle;\n",
       "    }\n",
       "\n",
       "    .dataframe tbody tr th {\n",
       "        vertical-align: top;\n",
       "    }\n",
       "\n",
       "    .dataframe thead th {\n",
       "        text-align: right;\n",
       "    }\n",
       "</style>\n",
       "<table border=\"1\" class=\"dataframe\">\n",
       "  <thead>\n",
       "    <tr style=\"text-align: right;\">\n",
       "      <th></th>\n",
       "      <th>gender</th>\n",
       "      <th>height</th>\n",
       "      <th>weight</th>\n",
       "      <th>ap_hi</th>\n",
       "      <th>ap_lo</th>\n",
       "      <th>cholesterol</th>\n",
       "      <th>gluc</th>\n",
       "      <th>smoke</th>\n",
       "      <th>alco</th>\n",
       "      <th>active</th>\n",
       "      <th>year</th>\n",
       "    </tr>\n",
       "  </thead>\n",
       "  <tbody>\n",
       "    <tr>\n",
       "      <th>0</th>\n",
       "      <td>1</td>\n",
       "      <td>154</td>\n",
       "      <td>85.0</td>\n",
       "      <td>130</td>\n",
       "      <td>80</td>\n",
       "      <td>1</td>\n",
       "      <td>1</td>\n",
       "      <td>0</td>\n",
       "      <td>0</td>\n",
       "      <td>1</td>\n",
       "      <td>51</td>\n",
       "    </tr>\n",
       "    <tr>\n",
       "      <th>1</th>\n",
       "      <td>2</td>\n",
       "      <td>170</td>\n",
       "      <td>69.0</td>\n",
       "      <td>130</td>\n",
       "      <td>90</td>\n",
       "      <td>1</td>\n",
       "      <td>1</td>\n",
       "      <td>0</td>\n",
       "      <td>0</td>\n",
       "      <td>1</td>\n",
       "      <td>52</td>\n",
       "    </tr>\n",
       "    <tr>\n",
       "      <th>2</th>\n",
       "      <td>1</td>\n",
       "      <td>160</td>\n",
       "      <td>70.0</td>\n",
       "      <td>120</td>\n",
       "      <td>75</td>\n",
       "      <td>1</td>\n",
       "      <td>1</td>\n",
       "      <td>0</td>\n",
       "      <td>0</td>\n",
       "      <td>0</td>\n",
       "      <td>55</td>\n",
       "    </tr>\n",
       "    <tr>\n",
       "      <th>3</th>\n",
       "      <td>2</td>\n",
       "      <td>185</td>\n",
       "      <td>94.0</td>\n",
       "      <td>130</td>\n",
       "      <td>90</td>\n",
       "      <td>1</td>\n",
       "      <td>1</td>\n",
       "      <td>0</td>\n",
       "      <td>0</td>\n",
       "      <td>1</td>\n",
       "      <td>49</td>\n",
       "    </tr>\n",
       "    <tr>\n",
       "      <th>4</th>\n",
       "      <td>2</td>\n",
       "      <td>170</td>\n",
       "      <td>76.0</td>\n",
       "      <td>120</td>\n",
       "      <td>80</td>\n",
       "      <td>1</td>\n",
       "      <td>1</td>\n",
       "      <td>0</td>\n",
       "      <td>0</td>\n",
       "      <td>1</td>\n",
       "      <td>44</td>\n",
       "    </tr>\n",
       "    <tr>\n",
       "      <th>5</th>\n",
       "      <td>1</td>\n",
       "      <td>160</td>\n",
       "      <td>68.0</td>\n",
       "      <td>120</td>\n",
       "      <td>80</td>\n",
       "      <td>1</td>\n",
       "      <td>1</td>\n",
       "      <td>0</td>\n",
       "      <td>0</td>\n",
       "      <td>0</td>\n",
       "      <td>45</td>\n",
       "    </tr>\n",
       "    <tr>\n",
       "      <th>6</th>\n",
       "      <td>2</td>\n",
       "      <td>170</td>\n",
       "      <td>68.0</td>\n",
       "      <td>120</td>\n",
       "      <td>80</td>\n",
       "      <td>1</td>\n",
       "      <td>1</td>\n",
       "      <td>0</td>\n",
       "      <td>0</td>\n",
       "      <td>0</td>\n",
       "      <td>43</td>\n",
       "    </tr>\n",
       "    <tr>\n",
       "      <th>7</th>\n",
       "      <td>1</td>\n",
       "      <td>164</td>\n",
       "      <td>60.0</td>\n",
       "      <td>120</td>\n",
       "      <td>80</td>\n",
       "      <td>1</td>\n",
       "      <td>1</td>\n",
       "      <td>0</td>\n",
       "      <td>0</td>\n",
       "      <td>0</td>\n",
       "      <td>55</td>\n",
       "    </tr>\n",
       "    <tr>\n",
       "      <th>8</th>\n",
       "      <td>1</td>\n",
       "      <td>170</td>\n",
       "      <td>68.0</td>\n",
       "      <td>110</td>\n",
       "      <td>70</td>\n",
       "      <td>1</td>\n",
       "      <td>1</td>\n",
       "      <td>0</td>\n",
       "      <td>0</td>\n",
       "      <td>1</td>\n",
       "      <td>55</td>\n",
       "    </tr>\n",
       "    <tr>\n",
       "      <th>9</th>\n",
       "      <td>1</td>\n",
       "      <td>162</td>\n",
       "      <td>88.0</td>\n",
       "      <td>180</td>\n",
       "      <td>100</td>\n",
       "      <td>2</td>\n",
       "      <td>2</td>\n",
       "      <td>0</td>\n",
       "      <td>1</td>\n",
       "      <td>1</td>\n",
       "      <td>59</td>\n",
       "    </tr>\n",
       "  </tbody>\n",
       "</table>\n",
       "</div>"
      ],
      "text/plain": [
       "   gender  height  weight  ap_hi  ap_lo  cholesterol  gluc  smoke  alco  \\\n",
       "0       1     154    85.0    130     80            1     1      0     0   \n",
       "1       2     170    69.0    130     90            1     1      0     0   \n",
       "2       1     160    70.0    120     75            1     1      0     0   \n",
       "3       2     185    94.0    130     90            1     1      0     0   \n",
       "4       2     170    76.0    120     80            1     1      0     0   \n",
       "5       1     160    68.0    120     80            1     1      0     0   \n",
       "6       2     170    68.0    120     80            1     1      0     0   \n",
       "7       1     164    60.0    120     80            1     1      0     0   \n",
       "8       1     170    68.0    110     70            1     1      0     0   \n",
       "9       1     162    88.0    180    100            2     2      0     1   \n",
       "\n",
       "   active  year  \n",
       "0       1    51  \n",
       "1       1    52  \n",
       "2       0    55  \n",
       "3       1    49  \n",
       "4       1    44  \n",
       "5       0    45  \n",
       "6       0    43  \n",
       "7       0    55  \n",
       "8       1    55  \n",
       "9       1    59  "
      ]
     },
     "execution_count": 25,
     "metadata": {},
     "output_type": "execute_result"
    }
   ],
   "source": [
    "df_test['year'] = df_test['age'] / 365\n",
    "df_test['year'] = df_test['year'].astype(np.int64)\n",
    "df_test.drop(columns='age', inplace=True)\n",
    "# проверим результат \n",
    "df_test.head(10)"
   ]
  },
  {
   "cell_type": "code",
   "execution_count": 26,
   "id": "4b28745a",
   "metadata": {
    "execution": {
     "iopub.execute_input": "2023-02-27T17:31:21.529725Z",
     "iopub.status.busy": "2023-02-27T17:31:21.529144Z",
     "iopub.status.idle": "2023-02-27T17:31:21.545885Z",
     "shell.execute_reply": "2023-02-27T17:31:21.544651Z"
    },
    "papermill": {
     "duration": 0.042222,
     "end_time": "2023-02-27T17:31:21.548240",
     "exception": false,
     "start_time": "2023-02-27T17:31:21.506018",
     "status": "completed"
    },
    "tags": []
   },
   "outputs": [
    {
     "name": "stdout",
     "output_type": "stream",
     "text": [
      "count    69976.000000\n",
      "mean        52.840874\n",
      "std          6.767103\n",
      "min         29.000000\n",
      "25%         48.000000\n",
      "50%         53.000000\n",
      "75%         58.000000\n",
      "max         64.000000\n",
      "Name: year, dtype: float64\n",
      "\n",
      "count    30000.000000\n",
      "mean        52.802900\n",
      "std          6.793987\n",
      "min         24.000000\n",
      "25%         48.000000\n",
      "50%         53.000000\n",
      "75%         58.000000\n",
      "max         64.000000\n",
      "Name: year, dtype: float64\n"
     ]
    }
   ],
   "source": [
    "print (df['year'].describe())\n",
    "print('')\n",
    "print (df_test['year'].describe())"
   ]
  },
  {
   "cell_type": "code",
   "execution_count": 27,
   "id": "46f724ac",
   "metadata": {
    "execution": {
     "iopub.execute_input": "2023-02-27T17:31:21.593157Z",
     "iopub.status.busy": "2023-02-27T17:31:21.592818Z",
     "iopub.status.idle": "2023-02-27T17:31:21.896075Z",
     "shell.execute_reply": "2023-02-27T17:31:21.895045Z"
    },
    "papermill": {
     "duration": 0.328072,
     "end_time": "2023-02-27T17:31:21.898416",
     "exception": false,
     "start_time": "2023-02-27T17:31:21.570344",
     "status": "completed"
    },
    "tags": []
   },
   "outputs": [
    {
     "data": {
      "image/png": "[encoded data removed]",
      "text/plain": [
       "<Figure size 432x288 with 1 Axes>"
      ]
     },
     "metadata": {
      "needs_background": "light"
     },
     "output_type": "display_data"
    }
   ],
   "source": [
    "bins = np.linspace(20, 70, 25)\n",
    "plt.hist(df['year'], bins, alpha = 0.5, label='Возраст на train')\n",
    "plt.hist(df_test['year'], bins, alpha = 0.5, label='Возраст на teat')\n",
    "plt.legend(loc='upper left')\n",
    "plt.show()"
   ]
  },
  {
   "cell_type": "markdown",
   "id": "c56da2d2",
   "metadata": {
    "papermill": {
     "duration": 0.021626,
     "end_time": "2023-02-27T17:31:21.942123",
     "exception": false,
     "start_time": "2023-02-27T17:31:21.920497",
     "status": "completed"
    },
    "tags": []
   },
   "source": []
  },
  {
   "cell_type": "code",
   "execution_count": 28,
   "id": "750290c5",
   "metadata": {
    "execution": {
     "iopub.execute_input": "2023-02-27T17:31:21.986315Z",
     "iopub.status.busy": "2023-02-27T17:31:21.985916Z",
     "iopub.status.idle": "2023-02-27T17:31:21.992715Z",
     "shell.execute_reply": "2023-02-27T17:31:21.991838Z"
    },
    "papermill": {
     "duration": 0.031261,
     "end_time": "2023-02-27T17:31:21.994642",
     "exception": false,
     "start_time": "2023-02-27T17:31:21.963381",
     "status": "completed"
    },
    "tags": []
   },
   "outputs": [
    {
     "data": {
      "text/plain": [
       "array([2, 1], dtype=int64)"
      ]
     },
     "execution_count": 28,
     "metadata": {},
     "output_type": "execute_result"
    }
   ],
   "source": [
    "# пол пациента\n",
    "df['gender'].unique()"
   ]
  },
  {
   "cell_type": "code",
   "execution_count": 29,
   "id": "758d156e",
   "metadata": {
    "execution": {
     "iopub.execute_input": "2023-02-27T17:31:22.039179Z",
     "iopub.status.busy": "2023-02-27T17:31:22.038574Z",
     "iopub.status.idle": "2023-02-27T17:31:22.191718Z",
     "shell.execute_reply": "2023-02-27T17:31:22.190578Z"
    },
    "papermill": {
     "duration": 0.17747,
     "end_time": "2023-02-27T17:31:22.193787",
     "exception": false,
     "start_time": "2023-02-27T17:31:22.016317",
     "status": "completed"
    },
    "tags": []
   },
   "outputs": [
    {
     "data": {
      "image/png": "[encoded data removed]",
      "text/plain": [
       "<Figure size 864x432 with 1 Axes>"
      ]
     },
     "metadata": {},
     "output_type": "display_data"
    }
   ],
   "source": [
    "df['gender'].value_counts().plot.pie(legend=False, autopct='%1.2f%%', figsize=(12,6))\n",
    "plt.title('Распределение по полу')\n",
    "plt.show()"
   ]
  },
  {
   "cell_type": "markdown",
   "id": "abb4c850",
   "metadata": {
    "papermill": {
     "duration": 0.023039,
     "end_time": "2023-02-27T17:31:22.240604",
     "exception": false,
     "start_time": "2023-02-27T17:31:22.217565",
     "status": "completed"
    },
    "tags": []
   },
   "source": []
  },
  {
   "cell_type": "code",
   "execution_count": 30,
   "id": "17d09344",
   "metadata": {
    "execution": {
     "iopub.execute_input": "2023-02-27T17:31:22.289131Z",
     "iopub.status.busy": "2023-02-27T17:31:22.288717Z",
     "iopub.status.idle": "2023-02-27T17:31:22.298814Z",
     "shell.execute_reply": "2023-02-27T17:31:22.297556Z"
    },
    "papermill": {
     "duration": 0.037517,
     "end_time": "2023-02-27T17:31:22.301101",
     "exception": false,
     "start_time": "2023-02-27T17:31:22.263584",
     "status": "completed"
    },
    "tags": []
   },
   "outputs": [
    {
     "name": "stdout",
     "output_type": "stream",
     "text": [
      "165    5843\n",
      "160    5019\n",
      "170    4678\n",
      "168    4398\n",
      "164    3393\n",
      "       ... \n",
      "112       1\n",
      "98        1\n",
      "74        1\n",
      "119       1\n",
      "57        1\n",
      "Name: height, Length: 109, dtype: int64\n",
      "[168 156 165 169 151 157 178 158 164 173 181 172 170 154 162 163 153 159\n",
      " 166 155 160 175 171 152 187 148 179 180 188 185 167 183 174 176 161 184\n",
      " 177 182  76 149 142 150 144 147 186 146 141 195 140 198 145 143 196 138\n",
      " 194 190 134 136 100 120 189 137 192 122 250 191 117  70  97 119 130 110\n",
      " 193  75 132  71 135  67 125 139 133  74  98 112 207  68  55  81  80  64\n",
      "  91  60 109  72 197  65 128 105 108 200 104 111 113  96 131  59  66  99\n",
      "  57]\n"
     ]
    }
   ],
   "source": [
    "# рост пациента, см\n",
    "print (df['height'].value_counts())\n",
    "print (df['height'].unique())"
   ]
  },
  {
   "cell_type": "code",
   "execution_count": 31,
   "id": "6ba6eaf2",
   "metadata": {
    "execution": {
     "iopub.execute_input": "2023-02-27T17:31:22.351467Z",
     "iopub.status.busy": "2023-02-27T17:31:22.350450Z",
     "iopub.status.idle": "2023-02-27T17:31:22.365832Z",
     "shell.execute_reply": "2023-02-27T17:31:22.364769Z"
    },
    "papermill": {
     "duration": 0.04318,
     "end_time": "2023-02-27T17:31:22.368271",
     "exception": false,
     "start_time": "2023-02-27T17:31:22.325091",
     "status": "completed"
    },
    "tags": []
   },
   "outputs": [
    {
     "name": "stdout",
     "output_type": "stream",
     "text": [
      "count    69976.000000\n",
      "mean       164.359152\n",
      "std          8.211218\n",
      "min         55.000000\n",
      "25%        159.000000\n",
      "50%        165.000000\n",
      "75%        170.000000\n",
      "max        250.000000\n",
      "Name: height, dtype: float64\n",
      "\n",
      "count    30000.000000\n",
      "mean       164.322267\n",
      "std          8.213740\n",
      "min         50.000000\n",
      "25%        159.000000\n",
      "50%        165.000000\n",
      "75%        170.000000\n",
      "max        198.000000\n",
      "Name: height, dtype: float64\n"
     ]
    }
   ],
   "source": [
    "print (df['height'].describe())\n",
    "print ('')\n",
    "print (df_test['height'].describe())"
   ]
  },
  {
   "cell_type": "code",
   "execution_count": 32,
   "id": "d05685fc",
   "metadata": {
    "execution": {
     "iopub.execute_input": "2023-02-27T17:31:22.420009Z",
     "iopub.status.busy": "2023-02-27T17:31:22.419274Z",
     "iopub.status.idle": "2023-02-27T17:31:23.635884Z",
     "shell.execute_reply": "2023-02-27T17:31:23.634765Z"
    },
    "papermill": {
     "duration": 1.246024,
     "end_time": "2023-02-27T17:31:23.639367",
     "exception": false,
     "start_time": "2023-02-27T17:31:22.393343",
     "status": "completed"
    },
    "tags": []
   },
   "outputs": [
    {
     "data": {
      "image/png": "[encoded data removed]",
      "text/plain": [
       "<Figure size 864x432 with 1 Axes>"
      ]
     },
     "metadata": {},
     "output_type": "display_data"
    }
   ],
   "source": [
    "df['height'].value_counts().plot.pie(legend=False, autopct='%1.2f%%', figsize=(12,6))\n",
    "plt.title('Распределение по росту')\n",
    "plt.show()"
   ]
  },
  {
   "cell_type": "markdown",
   "id": "b55013eb",
   "metadata": {
    "papermill": {
     "duration": 0.023942,
     "end_time": "2023-02-27T17:31:23.689103",
     "exception": false,
     "start_time": "2023-02-27T17:31:23.665161",
     "status": "completed"
    },
    "tags": []
   },
   "source": []
  },
  {
   "cell_type": "code",
   "execution_count": 33,
   "id": "19348256",
   "metadata": {
    "execution": {
     "iopub.execute_input": "2023-02-27T17:31:23.739550Z",
     "iopub.status.busy": "2023-02-27T17:31:23.738832Z",
     "iopub.status.idle": "2023-02-27T17:31:23.750887Z",
     "shell.execute_reply": "2023-02-27T17:31:23.750159Z"
    },
    "papermill": {
     "duration": 0.039939,
     "end_time": "2023-02-27T17:31:23.753200",
     "exception": false,
     "start_time": "2023-02-27T17:31:23.713261",
     "status": "completed"
    },
    "tags": []
   },
   "outputs": [
    {
     "name": "stdout",
     "output_type": "stream",
     "text": [
      "65.0    3843\n",
      "70.0    3761\n",
      "68.0    2829\n",
      "75.0    2739\n",
      "60.0    2707\n",
      "        ... \n",
      "92.2       1\n",
      "75.6       1\n",
      "82.9       1\n",
      "23.0       1\n",
      "99.9       1\n",
      "Name: weight, Length: 287, dtype: int64\n",
      "[ 62.    85.    64.    82.    56.    67.    93.    95.    71.    68.\n",
      "  80.    60.    78.   112.    75.    52.    83.    69.    90.    45.\n",
      "  65.    59.    66.    74.   105.    73.    55.    70.    72.    63.\n",
      "  50.   107.    84.    77.    79.    76.    58.   115.    97.    53.\n",
      "  57.    49.   110.    94.    92.    87.   103.    88.    99.   100.\n",
      "  61.    48.    54.    51.    47.    91.   104.    81.    98.   108.\n",
      "  89.   101.    86.    65.5  142.    96.    44.    41.   169.   116.\n",
      " 200.    64.8  120.   117.   125.   106.   114.   113.   129.   124.\n",
      "  42.   123.   111.   102.   109.    46.   139.   150.   138.   131.\n",
      "  43.    83.6  134.   106.5  121.    40.   141.   119.   126.   177.\n",
      " 165.   122.    62.3  118.    89.5  132.   155.   130.   159.    84.6\n",
      " 140.    82.3   30.    67.9  127.    67.5   74.3  149.   180.   128.\n",
      "  60.2   64.5   58.7   90.5   37.    80.8  166.   161.    92.2   75.6\n",
      " 136.    82.9  154.    68.9  170.    84.5  135.    72.5  146.    70.5\n",
      "  74.2   84.3   38.    54.5  145.    68.5   79.5   72.8   73.2   96.5\n",
      "  53.2   39.    61.2  168.   133.    54.35  50.7   79.94  45.8  153.\n",
      "  34.    62.4  167.   156.    35.    70.3   31.    60.5   69.8   64.7\n",
      "  64.1  152.    59.5  163.    75.5   78.2  162.   121.3  178.    82.5\n",
      "  90.7   80.6   55.6   59.8   74.77  32.    70.8   57.4   73.8   56.2\n",
      "  69.5   71.5   89.1  158.    76.5   35.45  86.5   63.8   23.   144.\n",
      "  70.2   68.4  148.   164.    22.    66.5   54.9   59.2   65.3  137.\n",
      "  62.2   50.5   36.    61.5   80.5   81.1   53.6   11.    66.4   76.7\n",
      "  28.    68.3   60.6   76.8   58.8  181.    75.2   83.5   64.3  175.\n",
      "  84.9   80.7   84.7   60.1  105.5   85.5  121.8   51.5   53.9   42.2\n",
      "  74.5  114.6   73.5   71.3   33.    66.3   53.3   67.8   70.7   52.3\n",
      "  82.4   63.4   71.2   62.5   63.82  88.5   89.9   72.1  106.4  160.\n",
      "  68.2   53.67 171.    55.2   94.5  143.    62.7   53.5  109.5   10.\n",
      "  82.1   57.8   84.8   21.    29.   183.    58.5   57.6   78.5  172.\n",
      " 109.7   61.3   67.3   94.7  147.    55.4   99.9 ]\n"
     ]
    }
   ],
   "source": [
    "# вес пациента, кг\n",
    "print (df['weight'].value_counts())\n",
    "print (df['weight'].unique())"
   ]
  },
  {
   "cell_type": "code",
   "execution_count": 34,
   "id": "6d64596a",
   "metadata": {
    "execution": {
     "iopub.execute_input": "2023-02-27T17:31:23.804923Z",
     "iopub.status.busy": "2023-02-27T17:31:23.804538Z",
     "iopub.status.idle": "2023-02-27T17:31:23.819362Z",
     "shell.execute_reply": "2023-02-27T17:31:23.818000Z"
    },
    "papermill": {
     "duration": 0.041773,
     "end_time": "2023-02-27T17:31:23.821363",
     "exception": false,
     "start_time": "2023-02-27T17:31:23.779590",
     "status": "completed"
    },
    "tags": []
   },
   "outputs": [
    {
     "name": "stdout",
     "output_type": "stream",
     "text": [
      "count    69976.000000\n",
      "mean        74.208519\n",
      "std         14.397211\n",
      "min         10.000000\n",
      "25%         65.000000\n",
      "50%         72.000000\n",
      "75%         82.000000\n",
      "max        200.000000\n",
      "Name: weight, dtype: float64\n",
      "\n",
      "count    30000.000000\n",
      "mean       164.322267\n",
      "std          8.213740\n",
      "min         50.000000\n",
      "25%        159.000000\n",
      "50%        165.000000\n",
      "75%        170.000000\n",
      "max        198.000000\n",
      "Name: height, dtype: float64\n"
     ]
    }
   ],
   "source": [
    "print (df['weight'].describe())\n",
    "print ('')\n",
    "print (df_test['height'].describe())"
   ]
  },
  {
   "cell_type": "code",
   "execution_count": 35,
   "id": "4c4e960a",
   "metadata": {
    "execution": {
     "iopub.execute_input": "2023-02-27T17:31:23.874586Z",
     "iopub.status.busy": "2023-02-27T17:31:23.874207Z",
     "iopub.status.idle": "2023-02-27T17:31:27.041684Z",
     "shell.execute_reply": "2023-02-27T17:31:27.040677Z"
    },
    "papermill": {
     "duration": 3.198694,
     "end_time": "2023-02-27T17:31:27.045316",
     "exception": false,
     "start_time": "2023-02-27T17:31:23.846622",
     "status": "completed"
    },
    "tags": []
   },
   "outputs": [
    {
     "data": {
      "image/png": "[encoded data removed]",
      "text/plain": [
       "<Figure size 864x432 with 1 Axes>"
      ]
     },
     "metadata": {},
     "output_type": "display_data"
    }
   ],
   "source": [
    "df['weight'].value_counts().plot.pie(legend=False, autopct='%1.2f%%', figsize=(12,6))\n",
    "plt.title('Распределение по весу')\n",
    "plt.show()"
   ]
  },
  {
   "cell_type": "markdown",
   "id": "943fc995",
   "metadata": {
    "papermill": {
     "duration": 0.028859,
     "end_time": "2023-02-27T17:31:27.103263",
     "exception": false,
     "start_time": "2023-02-27T17:31:27.074404",
     "status": "completed"
    },
    "tags": []
   },
   "source": []
  },
  {
   "cell_type": "code",
   "execution_count": 36,
   "id": "5f1b1d46",
   "metadata": {
    "execution": {
     "iopub.execute_input": "2023-02-27T17:31:27.161798Z",
     "iopub.status.busy": "2023-02-27T17:31:27.161412Z",
     "iopub.status.idle": "2023-02-27T17:31:27.170265Z",
     "shell.execute_reply": "2023-02-27T17:31:27.168908Z"
    },
    "papermill": {
     "duration": 0.040826,
     "end_time": "2023-02-27T17:31:27.172592",
     "exception": false,
     "start_time": "2023-02-27T17:31:27.131766",
     "status": "completed"
    },
    "tags": []
   },
   "outputs": [
    {
     "name": "stdout",
     "output_type": "stream",
     "text": [
      " 120     27676\n",
      " 140      9506\n",
      " 130      8961\n",
      " 110      8643\n",
      " 150      4450\n",
      "         ...  \n",
      " 1620        1\n",
      " 199         1\n",
      "-150         1\n",
      "-115         1\n",
      " 2000        1\n",
      "Name: ap_hi, Length: 153, dtype: int64\n",
      "[  110   140   130   150   100   120   145   170   135   125    90   180\n",
      "   160   133   190    80   122   169   126   158   200    14   123    70\n",
      "   161   147   115   137   153    11   148   105   220   119   141   165\n",
      "   164    12   124   172   902   162   906   117   134   166   210   176\n",
      "   116    10   121    16   112   159   113   118   155   142   131   157\n",
      "   136   146   138  -100   909   109    85   106   129    93     7    95\n",
      "   179   156   168   132   104   103   178   175   128   151    15   139\n",
      " 11500   127    17   108   144   102     1  1420    13   143   701   107\n",
      "   184   149   167   114   101    60  1500   181   171   202  -115   111\n",
      "   907    20   188   185   163   173   154   177  -140   174  -120 14020\n",
      "  1400   240   191   197  1620   152    96   199  -150  1130   193    99\n",
      "   196   309   401 16020  1202   806  1300   230   207   215    97  1409\n",
      " 11020    24   960 13010  1110   195  1205   187  2000]\n"
     ]
    }
   ],
   "source": [
    "# систолическое давление(верхнее)\n",
    "print (df['ap_hi'].value_counts())\n",
    "print (df['ap_hi'].unique())"
   ]
  },
  {
   "cell_type": "code",
   "execution_count": 37,
   "id": "d8f2fd96",
   "metadata": {
    "execution": {
     "iopub.execute_input": "2023-02-27T17:31:27.230923Z",
     "iopub.status.busy": "2023-02-27T17:31:27.230542Z",
     "iopub.status.idle": "2023-02-27T17:31:27.245835Z",
     "shell.execute_reply": "2023-02-27T17:31:27.244153Z"
    },
    "papermill": {
     "duration": 0.046997,
     "end_time": "2023-02-27T17:31:27.248419",
     "exception": false,
     "start_time": "2023-02-27T17:31:27.201422",
     "status": "completed"
    },
    "tags": []
   },
   "outputs": [
    {
     "name": "stdout",
     "output_type": "stream",
     "text": [
      "count    69976.000000\n",
      "mean       128.820453\n",
      "std        154.037729\n",
      "min       -150.000000\n",
      "25%        120.000000\n",
      "50%        120.000000\n",
      "75%        140.000000\n",
      "max      16020.000000\n",
      "Name: ap_hi, dtype: float64\n",
      "\n",
      "count    30000.000000\n",
      "mean       130.271300\n",
      "std        212.501152\n",
      "min       -130.000000\n",
      "25%        120.000000\n",
      "50%        120.000000\n",
      "75%        140.000000\n",
      "max      16020.000000\n",
      "Name: ap_hi, dtype: float64\n"
     ]
    }
   ],
   "source": [
    "print (df['ap_hi'].describe())\n",
    "print ('')\n",
    "print (df_test['ap_hi'].describe())"
   ]
  },
  {
   "cell_type": "code",
   "execution_count": 38,
   "id": "097a41eb",
   "metadata": {
    "execution": {
     "iopub.execute_input": "2023-02-27T17:31:27.308695Z",
     "iopub.status.busy": "2023-02-27T17:31:27.307726Z",
     "iopub.status.idle": "2023-02-27T17:31:28.945000Z",
     "shell.execute_reply": "2023-02-27T17:31:28.943999Z"
    },
    "papermill": {
     "duration": 1.669582,
     "end_time": "2023-02-27T17:31:28.948079",
     "exception": false,
     "start_time": "2023-02-27T17:31:27.278497",
     "status": "completed"
    },
    "tags": []
   },
   "outputs": [
    {
     "data": {
      "image/png": "[encoded data removed]",
      "text/plain": [
       "<Figure size 864x432 with 1 Axes>"
      ]
     },
     "metadata": {},
     "output_type": "display_data"
    }
   ],
   "source": [
    "df['ap_hi'].value_counts().plot.pie(legend=False, autopct='%1.2f%%', figsize=(12,6))\n",
    "plt.title('Систолическое давление(верхнее)')\n",
    "plt.show()"
   ]
  },
  {
   "cell_type": "markdown",
   "id": "947d43e9",
   "metadata": {
    "papermill": {
     "duration": 0.029976,
     "end_time": "2023-02-27T17:31:29.007939",
     "exception": false,
     "start_time": "2023-02-27T17:31:28.977963",
     "status": "completed"
    },
    "tags": []
   },
   "source": []
  },
  {
   "cell_type": "code",
   "execution_count": 39,
   "id": "91a2994e",
   "metadata": {
    "execution": {
     "iopub.execute_input": "2023-02-27T17:31:29.066707Z",
     "iopub.status.busy": "2023-02-27T17:31:29.066046Z",
     "iopub.status.idle": "2023-02-27T17:31:29.075768Z",
     "shell.execute_reply": "2023-02-27T17:31:29.074191Z"
    },
    "papermill": {
     "duration": 0.042473,
     "end_time": "2023-02-27T17:31:29.078639",
     "exception": false,
     "start_time": "2023-02-27T17:31:29.036166",
     "status": "completed"
    },
    "tags": []
   },
   "outputs": [
    {
     "name": "stdout",
     "output_type": "stream",
     "text": [
      "80     34824\n",
      "90     14316\n",
      "70     10244\n",
      "100     4082\n",
      "60      2727\n",
      "       ...  \n",
      "56         1\n",
      "182        1\n",
      "810        1\n",
      "9          1\n",
      "602        1\n",
      "Name: ap_lo, Length: 157, dtype: int64\n",
      "[   80    90    70   100    60    85    89   110    65    63    79  1100\n",
      "  1000   800   120    50    30   109    84  1033   150    91    40    73\n",
      "    78    75    86    87  1001    82    95    69    74    97    81  1200\n",
      "    83   119     0    93   105 10000    99    77    59  8044   140    92\n",
      "  1044   108   125   115    68    61   106   102    94    66    52   170\n",
      "    76   160    62    96   130   113    67  9100    10    88   902     8\n",
      "   112   104    71    72  1008    98  2088    20   802  8000  1022   850\n",
      "   708    57   101  9011  1011    64  1007  1177  7100    45   709  8500\n",
      "    58  1110  8099  1088   126  1077  1120     7   103  1125   180   121\n",
      "  8100   710  5700  8079  1111  1003     6  1900   809   114   801  1002\n",
      "    53   111     1   118    56   182   810     9  7099 11000  9800  8200\n",
      "  1139   107   820    55  1400   190   900   122  6800   135   700    15\n",
      "  1101   910  1140  1211   -70    54  8077   901   880   870   585    49\n",
      "   602]\n"
     ]
    }
   ],
   "source": [
    "# диастолическое давление(нижнее)\n",
    "print (df['ap_lo'].value_counts())\n",
    "print (df['ap_lo'].unique())"
   ]
  },
  {
   "cell_type": "code",
   "execution_count": 40,
   "id": "e8842cba",
   "metadata": {
    "execution": {
     "iopub.execute_input": "2023-02-27T17:31:29.137624Z",
     "iopub.status.busy": "2023-02-27T17:31:29.136935Z",
     "iopub.status.idle": "2023-02-27T17:31:29.151265Z",
     "shell.execute_reply": "2023-02-27T17:31:29.149638Z"
    },
    "papermill": {
     "duration": 0.046068,
     "end_time": "2023-02-27T17:31:29.153560",
     "exception": false,
     "start_time": "2023-02-27T17:31:29.107492",
     "status": "completed"
    },
    "tags": []
   },
   "outputs": [
    {
     "name": "stdout",
     "output_type": "stream",
     "text": [
      "count    69976.000000\n",
      "mean        96.636261\n",
      "std        188.504581\n",
      "min        -70.000000\n",
      "25%         80.000000\n",
      "50%         80.000000\n",
      "75%         90.000000\n",
      "max      11000.000000\n",
      "Name: ap_lo, dtype: float64\n",
      "\n",
      "count    30000.000000\n",
      "mean        95.689000\n",
      "std        163.852598\n",
      "min        -90.000000\n",
      "25%         80.000000\n",
      "50%         80.000000\n",
      "75%         90.000000\n",
      "max       9100.000000\n",
      "Name: ap_lo, dtype: float64\n"
     ]
    }
   ],
   "source": [
    "print (df['ap_lo'].describe())\n",
    "print ('')\n",
    "print (df_test['ap_lo'].describe())"
   ]
  },
  {
   "cell_type": "code",
   "execution_count": 41,
   "id": "f5e7f7b5",
   "metadata": {
    "execution": {
     "iopub.execute_input": "2023-02-27T17:31:29.213082Z",
     "iopub.status.busy": "2023-02-27T17:31:29.212651Z",
     "iopub.status.idle": "2023-02-27T17:31:31.033059Z",
     "shell.execute_reply": "2023-02-27T17:31:31.031967Z"
    },
    "papermill": {
     "duration": 1.853349,
     "end_time": "2023-02-27T17:31:31.035603",
     "exception": false,
     "start_time": "2023-02-27T17:31:29.182254",
     "status": "completed"
    },
    "tags": []
   },
   "outputs": [
    {
     "data": {
      "image/png": "[encoded data removed]",
      "text/plain": [
       "<Figure size 864x432 with 1 Axes>"
      ]
     },
     "metadata": {},
     "output_type": "display_data"
    }
   ],
   "source": [
    "df['ap_lo'].value_counts().plot.pie(legend=False, autopct='%1.2f%%', figsize=(12,6))\n",
    "plt.title('диастолическое давление(нижнее)')\n",
    "plt.show()"
   ]
  },
  {
   "cell_type": "markdown",
   "id": "25a2a7b6",
   "metadata": {
    "papermill": {
     "duration": 0.031631,
     "end_time": "2023-02-27T17:31:31.097395",
     "exception": false,
     "start_time": "2023-02-27T17:31:31.065764",
     "status": "completed"
    },
    "tags": []
   },
   "source": []
  },
  {
   "cell_type": "code",
   "execution_count": 42,
   "id": "2954a0e5",
   "metadata": {
    "execution": {
     "iopub.execute_input": "2023-02-27T17:31:31.162137Z",
     "iopub.status.busy": "2023-02-27T17:31:31.161707Z",
     "iopub.status.idle": "2023-02-27T17:31:31.170041Z",
     "shell.execute_reply": "2023-02-27T17:31:31.168864Z"
    },
    "papermill": {
     "duration": 0.043445,
     "end_time": "2023-02-27T17:31:31.172220",
     "exception": false,
     "start_time": "2023-02-27T17:31:31.128775",
     "status": "completed"
    },
    "tags": []
   },
   "outputs": [
    {
     "name": "stdout",
     "output_type": "stream",
     "text": [
      "1    52361\n",
      "2     9549\n",
      "3     8066\n",
      "Name: cholesterol, dtype: int64\n",
      "[1 3 2]\n"
     ]
    }
   ],
   "source": [
    "# уровень холестерина\n",
    "print (df['cholesterol'].value_counts())\n",
    "print (df['cholesterol'].unique())"
   ]
  },
  {
   "cell_type": "code",
   "execution_count": 43,
   "id": "3d91e823",
   "metadata": {
    "execution": {
     "iopub.execute_input": "2023-02-27T17:31:31.236967Z",
     "iopub.status.busy": "2023-02-27T17:31:31.235817Z",
     "iopub.status.idle": "2023-02-27T17:31:31.334511Z",
     "shell.execute_reply": "2023-02-27T17:31:31.333347Z"
    },
    "papermill": {
     "duration": 0.134254,
     "end_time": "2023-02-27T17:31:31.338322",
     "exception": false,
     "start_time": "2023-02-27T17:31:31.204068",
     "status": "completed"
    },
    "tags": []
   },
   "outputs": [
    {
     "data": {
      "image/png": "[encoded data removed]",
      "text/plain": [
       "<Figure size 864x432 with 1 Axes>"
      ]
     },
     "metadata": {},
     "output_type": "display_data"
    }
   ],
   "source": [
    "df['cholesterol'].value_counts().plot.pie(legend=False, autopct='%1.2f%%', figsize=(12,6))\n",
    "plt.title('Уровень холестерина')\n",
    "plt.show()"
   ]
  },
  {
   "cell_type": "markdown",
   "id": "de1099f4",
   "metadata": {
    "papermill": {
     "duration": 0.031409,
     "end_time": "2023-02-27T17:31:31.448797",
     "exception": false,
     "start_time": "2023-02-27T17:31:31.417388",
     "status": "completed"
    },
    "tags": []
   },
   "source": []
  },
  {
   "cell_type": "code",
   "execution_count": 44,
   "id": "df6ec32f",
   "metadata": {
    "execution": {
     "iopub.execute_input": "2023-02-27T17:31:31.514894Z",
     "iopub.status.busy": "2023-02-27T17:31:31.513897Z",
     "iopub.status.idle": "2023-02-27T17:31:31.522303Z",
     "shell.execute_reply": "2023-02-27T17:31:31.520998Z"
    },
    "papermill": {
     "duration": 0.044212,
     "end_time": "2023-02-27T17:31:31.525049",
     "exception": false,
     "start_time": "2023-02-27T17:31:31.480837",
     "status": "completed"
    },
    "tags": []
   },
   "outputs": [
    {
     "name": "stdout",
     "output_type": "stream",
     "text": [
      "1    59455\n",
      "3     5331\n",
      "2     5190\n",
      "Name: gluc, dtype: int64\n",
      "[1 2 3]\n"
     ]
    }
   ],
   "source": [
    "# уровень глюкозы\n",
    "print (df['gluc'].value_counts())\n",
    "print (df['gluc'].unique())"
   ]
  },
  {
   "cell_type": "code",
   "execution_count": 45,
   "id": "29ad5b19",
   "metadata": {
    "execution": {
     "iopub.execute_input": "2023-02-27T17:31:31.590831Z",
     "iopub.status.busy": "2023-02-27T17:31:31.590100Z",
     "iopub.status.idle": "2023-02-27T17:31:31.734720Z",
     "shell.execute_reply": "2023-02-27T17:31:31.733464Z"
    },
    "papermill": {
     "duration": 0.181528,
     "end_time": "2023-02-27T17:31:31.738650",
     "exception": false,
     "start_time": "2023-02-27T17:31:31.557122",
     "status": "completed"
    },
    "tags": []
   },
   "outputs": [
    {
     "data": {
      "image/png": "[encoded data removed]",
      "text/plain": [
       "<Figure size 864x432 with 1 Axes>"
      ]
     },
     "metadata": {},
     "output_type": "display_data"
    }
   ],
   "source": [
    "df['gluc'].value_counts().plot.pie(legend=False, autopct='%1.2f%%', figsize=(12,6))\n",
    "plt.title('Уровень глюкозы')\n",
    "plt.show()"
   ]
  },
  {
   "cell_type": "markdown",
   "id": "dff2254a",
   "metadata": {
    "papermill": {
     "duration": 0.032533,
     "end_time": "2023-02-27T17:31:31.831077",
     "exception": false,
     "start_time": "2023-02-27T17:31:31.798544",
     "status": "completed"
    },
    "tags": []
   },
   "source": []
  },
  {
   "cell_type": "code",
   "execution_count": 46,
   "id": "95695bd7",
   "metadata": {
    "execution": {
     "iopub.execute_input": "2023-02-27T17:31:31.897960Z",
     "iopub.status.busy": "2023-02-27T17:31:31.897302Z",
     "iopub.status.idle": "2023-02-27T17:31:31.905247Z",
     "shell.execute_reply": "2023-02-27T17:31:31.903912Z"
    },
    "papermill": {
     "duration": 0.043799,
     "end_time": "2023-02-27T17:31:31.907382",
     "exception": false,
     "start_time": "2023-02-27T17:31:31.863583",
     "status": "completed"
    },
    "tags": []
   },
   "outputs": [
    {
     "name": "stdout",
     "output_type": "stream",
     "text": [
      "0    63807\n",
      "1     6169\n",
      "Name: smoke, dtype: int64\n",
      "[0 1]\n"
     ]
    }
   ],
   "source": [
    "# курящий пациент\n",
    "print (df['smoke'].value_counts())\n",
    "print (df['smoke'].unique())"
   ]
  },
  {
   "cell_type": "code",
   "execution_count": 47,
   "id": "49793d39",
   "metadata": {
    "execution": {
     "iopub.execute_input": "2023-02-27T17:31:31.973986Z",
     "iopub.status.busy": "2023-02-27T17:31:31.973560Z",
     "iopub.status.idle": "2023-02-27T17:31:32.105568Z",
     "shell.execute_reply": "2023-02-27T17:31:32.104048Z"
    },
    "papermill": {
     "duration": 0.169566,
     "end_time": "2023-02-27T17:31:32.109506",
     "exception": false,
     "start_time": "2023-02-27T17:31:31.939940",
     "status": "completed"
    },
    "tags": []
   },
   "outputs": [
    {
     "data": {
      "image/png": "[encoded data removed]",
      "text/plain": [
       "<Figure size 864x432 with 1 Axes>"
      ]
     },
     "metadata": {},
     "output_type": "display_data"
    }
   ],
   "source": [
    "df['smoke'].value_counts().plot.pie(legend=False, autopct='%1.2f%%', figsize=(12,6))\n",
    "plt.title('Курящий пациент')\n",
    "plt.show()"
   ]
  },
  {
   "cell_type": "markdown",
   "id": "79895231",
   "metadata": {
    "papermill": {
     "duration": 0.031911,
     "end_time": "2023-02-27T17:31:32.202724",
     "exception": false,
     "start_time": "2023-02-27T17:31:32.170813",
     "status": "completed"
    },
    "tags": []
   },
   "source": []
  },
  {
   "cell_type": "code",
   "execution_count": 48,
   "id": "749e20bc",
   "metadata": {
    "execution": {
     "iopub.execute_input": "2023-02-27T17:31:32.269801Z",
     "iopub.status.busy": "2023-02-27T17:31:32.268731Z",
     "iopub.status.idle": "2023-02-27T17:31:32.278101Z",
     "shell.execute_reply": "2023-02-27T17:31:32.276764Z"
    },
    "papermill": {
     "duration": 0.045251,
     "end_time": "2023-02-27T17:31:32.280621",
     "exception": false,
     "start_time": "2023-02-27T17:31:32.235370",
     "status": "completed"
    },
    "tags": []
   },
   "outputs": [
    {
     "name": "stdout",
     "output_type": "stream",
     "text": [
      "0    66212\n",
      "1     3764\n",
      "Name: alco, dtype: int64\n",
      "[0 1]\n"
     ]
    }
   ],
   "source": [
    "# отношение к алкоголю у пациента\n",
    "print (df['alco'].value_counts())\n",
    "print (df['alco'].unique())"
   ]
  },
  {
   "cell_type": "code",
   "execution_count": 49,
   "id": "d7ae06ef",
   "metadata": {
    "execution": {
     "iopub.execute_input": "2023-02-27T17:31:32.347192Z",
     "iopub.status.busy": "2023-02-27T17:31:32.346190Z",
     "iopub.status.idle": "2023-02-27T17:31:32.480841Z",
     "shell.execute_reply": "2023-02-27T17:31:32.479232Z"
    },
    "papermill": {
     "duration": 0.171897,
     "end_time": "2023-02-27T17:31:32.484703",
     "exception": false,
     "start_time": "2023-02-27T17:31:32.312806",
     "status": "completed"
    },
    "tags": []
   },
   "outputs": [
    {
     "data": {
      "image/png": "[encoded data removed]",
      "text/plain": [
       "<Figure size 864x432 with 1 Axes>"
      ]
     },
     "metadata": {},
     "output_type": "display_data"
    }
   ],
   "source": [
    "df['alco'].value_counts().plot.pie(legend=False, autopct='%1.2f%%', figsize=(12,6))\n",
    "plt.title('Отношение к алкоголю у пациента')\n",
    "plt.show()"
   ]
  },
  {
   "cell_type": "markdown",
   "id": "67c77537",
   "metadata": {
    "papermill": {
     "duration": 0.031225,
     "end_time": "2023-02-27T17:31:32.577343",
     "exception": false,
     "start_time": "2023-02-27T17:31:32.546118",
     "status": "completed"
    },
    "tags": []
   },
   "source": []
  },
  {
   "cell_type": "code",
   "execution_count": 50,
   "id": "ef188f48",
   "metadata": {
    "execution": {
     "iopub.execute_input": "2023-02-27T17:31:32.644155Z",
     "iopub.status.busy": "2023-02-27T17:31:32.643465Z",
     "iopub.status.idle": "2023-02-27T17:31:32.651476Z",
     "shell.execute_reply": "2023-02-27T17:31:32.650123Z"
    },
    "papermill": {
     "duration": 0.044224,
     "end_time": "2023-02-27T17:31:32.653635",
     "exception": false,
     "start_time": "2023-02-27T17:31:32.609411",
     "status": "completed"
    },
    "tags": []
   },
   "outputs": [
    {
     "name": "stdout",
     "output_type": "stream",
     "text": [
      "1    56241\n",
      "0    13735\n",
      "Name: active, dtype: int64\n",
      "[1 0]\n"
     ]
    }
   ],
   "source": [
    "# физическая активность пациента\n",
    "print (df['active'].value_counts())\n",
    "print (df['active'].unique())"
   ]
  },
  {
   "cell_type": "code",
   "execution_count": 51,
   "id": "b69d9452",
   "metadata": {
    "execution": {
     "iopub.execute_input": "2023-02-27T17:31:32.720898Z",
     "iopub.status.busy": "2023-02-27T17:31:32.720460Z",
     "iopub.status.idle": "2023-02-27T17:31:32.864063Z",
     "shell.execute_reply": "2023-02-27T17:31:32.862584Z"
    },
    "papermill": {
     "duration": 0.179786,
     "end_time": "2023-02-27T17:31:32.866352",
     "exception": false,
     "start_time": "2023-02-27T17:31:32.686566",
     "status": "completed"
    },
    "tags": []
   },
   "outputs": [
    {
     "data": {
      "image/png": "[encoded data removed]",
      "text/plain": [
       "<Figure size 864x432 with 1 Axes>"
      ]
     },
     "metadata": {},
     "output_type": "display_data"
    }
   ],
   "source": [
    "df['active'].value_counts().plot.pie(legend=False, autopct='%1.2f%%', figsize=(12,6))\n",
    "plt.title('Физическая активность пациента')\n",
    "plt.show()"
   ]
  },
  {
   "cell_type": "markdown",
   "id": "3f0378a9",
   "metadata": {
    "papermill": {
     "duration": 0.034606,
     "end_time": "2023-02-27T17:31:32.963099",
     "exception": false,
     "start_time": "2023-02-27T17:31:32.928493",
     "status": "completed"
    },
    "tags": []
   },
   "source": []
  },
  {
   "cell_type": "code",
   "execution_count": 52,
   "id": "1c8db89e",
   "metadata": {
    "execution": {
     "iopub.execute_input": "2023-02-27T17:31:33.033332Z",
     "iopub.status.busy": "2023-02-27T17:31:33.032624Z",
     "iopub.status.idle": "2023-02-27T17:31:33.040785Z",
     "shell.execute_reply": "2023-02-27T17:31:33.039466Z"
    },
    "papermill": {
     "duration": 0.045621,
     "end_time": "2023-02-27T17:31:33.042996",
     "exception": false,
     "start_time": "2023-02-27T17:31:32.997375",
     "status": "completed"
    },
    "tags": []
   },
   "outputs": [
    {
     "name": "stdout",
     "output_type": "stream",
     "text": [
      "0    35004\n",
      "1    34972\n",
      "Name: cardio, dtype: int64\n",
      "[0 1]\n"
     ]
    }
   ],
   "source": [
    "# риск сердечных заболеваний\n",
    "print (df['cardio'].value_counts())\n",
    "print (df['cardio'].unique())"
   ]
  },
  {
   "cell_type": "code",
   "execution_count": 53,
   "id": "bd42cdc7",
   "metadata": {
    "execution": {
     "iopub.execute_input": "2023-02-27T17:31:33.112323Z",
     "iopub.status.busy": "2023-02-27T17:31:33.111645Z",
     "iopub.status.idle": "2023-02-27T17:31:33.239500Z",
     "shell.execute_reply": "2023-02-27T17:31:33.238049Z"
    },
    "papermill": {
     "duration": 0.165975,
     "end_time": "2023-02-27T17:31:33.242386",
     "exception": false,
     "start_time": "2023-02-27T17:31:33.076411",
     "status": "completed"
    },
    "tags": []
   },
   "outputs": [
    {
     "data": {
      "image/png": "[encoded data removed]",
      "text/plain": [
       "<Figure size 864x432 with 1 Axes>"
      ]
     },
     "metadata": {},
     "output_type": "display_data"
    }
   ],
   "source": [
    "df['cardio'].value_counts().plot.pie(legend=False, autopct='%1.2f%%', figsize=(12,6))\n",
    "plt.title('Риск сердечных заболеваний')\n",
    "plt.show()"
   ]
  },
  {
   "cell_type": "code",
   "execution_count": 54,
   "id": "25bac3b3",
   "metadata": {
    "execution": {
     "iopub.execute_input": "2023-02-27T17:31:33.340730Z",
     "iopub.status.busy": "2023-02-27T17:31:33.340073Z",
     "iopub.status.idle": "2023-02-27T17:31:33.947022Z",
     "shell.execute_reply": "2023-02-27T17:31:33.945909Z"
    },
    "papermill": {
     "duration": 0.644856,
     "end_time": "2023-02-27T17:31:33.950008",
     "exception": false,
     "start_time": "2023-02-27T17:31:33.305152",
     "status": "completed"
    },
    "tags": []
   },
   "outputs": [
    {
     "data": {
      "image/png": "[encoded data removed]",
      "text/plain": [
       "<Figure size 1008x720 with 2 Axes>"
      ]
     },
     "metadata": {
      "needs_background": "light"
     },
     "output_type": "display_data"
    }
   ],
   "source": [
    "plt.figure(figsize = (14,10))\n",
    "mask = np.triu(df.corr())\n",
    "sns.heatmap(df.corr(), annot = True, fmt = \".1f\", linewidths = .7,cmap=\"OrRd\", mask = mask)\n",
    "plt.show()"
   ]
  },
  {
   "cell_type": "code",
   "execution_count": 55,
   "id": "8ff80295",
   "metadata": {
    "execution": {
     "iopub.execute_input": "2023-02-27T17:31:34.028670Z",
     "iopub.status.busy": "2023-02-27T17:31:34.027916Z",
     "iopub.status.idle": "2023-02-27T17:31:34.540205Z",
     "shell.execute_reply": "2023-02-27T17:31:34.539150Z"
    },
    "papermill": {
     "duration": 0.554333,
     "end_time": "2023-02-27T17:31:34.542467",
     "exception": false,
     "start_time": "2023-02-27T17:31:33.988134",
     "status": "completed"
    },
    "tags": []
   },
   "outputs": [
    {
     "data": {
      "image/png": "[encoded data removed]",
      "text/plain": [
       "<Figure size 1008x720 with 2 Axes>"
      ]
     },
     "metadata": {
      "needs_background": "light"
     },
     "output_type": "display_data"
    }
   ],
   "source": [
    "plt.figure(figsize = (14,10))\n",
    "mask = np.triu(df_test.corr())\n",
    "sns.heatmap(df_test.corr(), annot = True, fmt = \".1f\", linewidths = .7,cmap=\"OrRd\", mask = mask)\n",
    "plt.show()"
   ]
  },
  {
   "cell_type": "markdown",
   "id": "adfde3e1",
   "metadata": {
    "execution": {
     "iopub.execute_input": "2023-02-23T08:53:37.723943Z",
     "iopub.status.busy": "2023-02-23T08:53:37.723266Z",
     "iopub.status.idle": "2023-02-23T08:53:37.734368Z",
     "shell.execute_reply": "2023-02-23T08:53:37.732804Z",
     "shell.execute_reply.started": "2023-02-23T08:53:37.723891Z"
    },
    "papermill": {
     "duration": 0.036991,
     "end_time": "2023-02-27T17:31:34.618579",
     "exception": false,
     "start_time": "2023-02-27T17:31:34.581588",
     "status": "completed"
    },
    "tags": []
   },
   "source": [
    "****Result of the Section:****\n",
    "1. Значения \"Возраст\" преобразованны. \n",
    "2. В эти данных 'height', 'weight', 'ap_hi', 'ap_lo', 'year' явно есть выбросы.\n",
    "3. Корреляция: age|year = 1 (логично т.к. на основе age создали year)\n",
    "               cholesterol|gluc = 0.5 (как правило это показатели сахарного диабета или преддивбета)\n",
    "               gender|height = 0.5 (в данных происходит количественное преобладание одного пола над \n",
    "               другим; мужчины по статистики выше женщин)."
   ]
  },
  {
   "cell_type": "code",
   "execution_count": 56,
   "id": "6b975080",
   "metadata": {
    "execution": {
     "iopub.execute_input": "2023-02-27T17:31:34.695002Z",
     "iopub.status.busy": "2023-02-27T17:31:34.694281Z",
     "iopub.status.idle": "2023-02-27T17:31:34.700348Z",
     "shell.execute_reply": "2023-02-27T17:31:34.699651Z"
    },
    "papermill": {
     "duration": 0.046824,
     "end_time": "2023-02-27T17:31:34.702208",
     "exception": false,
     "start_time": "2023-02-27T17:31:34.655384",
     "status": "completed"
    },
    "tags": []
   },
   "outputs": [
    {
     "data": {
      "text/plain": [
       "(69976, 12)"
      ]
     },
     "execution_count": 56,
     "metadata": {},
     "output_type": "execute_result"
    }
   ],
   "source": [
    "df.shape"
   ]
  },
  {
   "cell_type": "markdown",
   "id": "876ceb80",
   "metadata": {
    "papermill": {
     "duration": 0.036543,
     "end_time": "2023-02-27T17:31:34.776218",
     "exception": false,
     "start_time": "2023-02-27T17:31:34.739675",
     "status": "completed"
    },
    "tags": []
   },
   "source": [
    "# ****Checking for outliers****"
   ]
  },
  {
   "cell_type": "code",
   "execution_count": 57,
   "id": "38892310",
   "metadata": {
    "execution": {
     "iopub.execute_input": "2023-02-27T17:31:34.852966Z",
     "iopub.status.busy": "2023-02-27T17:31:34.852292Z",
     "iopub.status.idle": "2023-02-27T17:31:35.668553Z",
     "shell.execute_reply": "2023-02-27T17:31:35.667311Z"
    },
    "papermill": {
     "duration": 0.857448,
     "end_time": "2023-02-27T17:31:35.670926",
     "exception": false,
     "start_time": "2023-02-27T17:31:34.813478",
     "status": "completed"
    },
    "tags": []
   },
   "outputs": [
    {
     "data": {
      "image/png": "[encoded data removed]",
      "text/plain": [
       "<Figure size 936x360 with 6 Axes>"
      ]
     },
     "metadata": {
      "needs_background": "light"
     },
     "output_type": "display_data"
    }
   ],
   "source": [
    "# проводим проверку на выбросы ранее замеченных значений\n",
    "numerical_columns = list(df.loc[:,['height', 'weight', 'ap_hi', 'ap_lo', 'year']])\n",
    "\n",
    "def boxplots_custom(dataset, columns_list, rows, cols, suptitle):\n",
    "    fig, axs = plt.subplots(rows, cols, sharey=True, figsize=(13,5))\n",
    "    fig.suptitle(suptitle,y=1, size=25)\n",
    "    axs = axs.flatten()\n",
    "    for i, data in enumerate(columns_list):\n",
    "        sns.boxplot(data=dataset[data], orient='h', ax=axs[i])\n",
    "        axs[i].set_title(data)\n",
    "        \n",
    "boxplots_custom(dataset=df, columns_list=numerical_columns, rows=2, cols=3, \n",
    "                suptitle='Проверка на наличие выбросов train.csv')\n",
    "plt.tight_layout()"
   ]
  },
  {
   "cell_type": "code",
   "execution_count": 58,
   "id": "e44945bf",
   "metadata": {
    "execution": {
     "iopub.execute_input": "2023-02-27T17:31:35.749710Z",
     "iopub.status.busy": "2023-02-27T17:31:35.749282Z",
     "iopub.status.idle": "2023-02-27T17:31:36.410989Z",
     "shell.execute_reply": "2023-02-27T17:31:36.409955Z"
    },
    "papermill": {
     "duration": 0.703117,
     "end_time": "2023-02-27T17:31:36.413616",
     "exception": false,
     "start_time": "2023-02-27T17:31:35.710499",
     "status": "completed"
    },
    "tags": []
   },
   "outputs": [
    {
     "data": {
      "image/png": "[encoded data removed]",
      "text/plain": [
       "<Figure size 936x360 with 6 Axes>"
      ]
     },
     "metadata": {
      "needs_background": "light"
     },
     "output_type": "display_data"
    }
   ],
   "source": [
    "boxplots_custom(dataset=df_test, columns_list=numerical_columns, rows=2, cols=3, \n",
    "                suptitle='Проверка на наличие выбросов test.csv')\n",
    "plt.tight_layout()"
   ]
  },
  {
   "cell_type": "code",
   "execution_count": 59,
   "id": "40cfeaf4",
   "metadata": {
    "execution": {
     "iopub.execute_input": "2023-02-27T17:31:36.493480Z",
     "iopub.status.busy": "2023-02-27T17:31:36.492654Z",
     "iopub.status.idle": "2023-02-27T17:31:36.571454Z",
     "shell.execute_reply": "2023-02-27T17:31:36.570595Z"
    },
    "papermill": {
     "duration": 0.121517,
     "end_time": "2023-02-27T17:31:36.574013",
     "exception": false,
     "start_time": "2023-02-27T17:31:36.452496",
     "status": "completed"
    },
    "tags": []
   },
   "outputs": [],
   "source": [
    "# Функция для подсчёта границ с учетом 1.5 размаха\n",
    "def quartile_range(df, column):\n",
    "    q1 = df[column].quantile(0.25)\n",
    "    q3 = df[column].quantile(0.75)\n",
    "    iqr = q3 - q1\n",
    "    dfq = df.loc[(df[column] < q3 + 1.5*iqr) & (df[column] > q1 - 1.5*iqr), column]\n",
    "    return dfq\n",
    "# Столбцы с выбросами\n",
    "list_features = ['height', 'weight', 'ap_hi', 'ap_lo', 'year']\n",
    "for col in list_features:\n",
    "    df[col] = quartile_range(df, col)\n",
    "    df_test[col] = quartile_range(df_test, col)"
   ]
  },
  {
   "cell_type": "code",
   "execution_count": 60,
   "id": "4e17731a",
   "metadata": {
    "execution": {
     "iopub.execute_input": "2023-02-27T17:31:36.655159Z",
     "iopub.status.busy": "2023-02-27T17:31:36.654511Z",
     "iopub.status.idle": "2023-02-27T17:31:36.729301Z",
     "shell.execute_reply": "2023-02-27T17:31:36.728251Z"
    },
    "papermill": {
     "duration": 0.118096,
     "end_time": "2023-02-27T17:31:36.731674",
     "exception": false,
     "start_time": "2023-02-27T17:31:36.613578",
     "status": "completed"
    },
    "tags": []
   },
   "outputs": [
    {
     "data": {
      "text/html": [
       "<style type=\"text/css\">\n",
       "</style>\n",
       "<table id=\"T_bfacc\">\n",
       "  <thead>\n",
       "    <tr>\n",
       "      <th class=\"blank level0\" >&nbsp;</th>\n",
       "      <th id=\"T_bfacc_level0_col0\" class=\"col_heading level0 col0\" >height</th>\n",
       "      <th id=\"T_bfacc_level0_col1\" class=\"col_heading level0 col1\" >weight</th>\n",
       "      <th id=\"T_bfacc_level0_col2\" class=\"col_heading level0 col2\" >ap_hi</th>\n",
       "      <th id=\"T_bfacc_level0_col3\" class=\"col_heading level0 col3\" >ap_lo</th>\n",
       "      <th id=\"T_bfacc_level0_col4\" class=\"col_heading level0 col4\" >year</th>\n",
       "    </tr>\n",
       "  </thead>\n",
       "  <tbody>\n",
       "    <tr>\n",
       "      <th id=\"T_bfacc_level0_row0\" class=\"row_heading level0 row0\" >count</th>\n",
       "      <td id=\"T_bfacc_row0_col0\" class=\"data row0 col0\" >69,457.00</td>\n",
       "      <td id=\"T_bfacc_row0_col1\" class=\"data row0 col1\" >68,157.00</td>\n",
       "      <td id=\"T_bfacc_row0_col2\" class=\"data row0 col2\" >66,842.00</td>\n",
       "      <td id=\"T_bfacc_row0_col3\" class=\"data row0 col3\" >65,246.00</td>\n",
       "      <td id=\"T_bfacc_row0_col4\" class=\"data row0 col4\" >69,972.00</td>\n",
       "    </tr>\n",
       "    <tr>\n",
       "      <th id=\"T_bfacc_level0_row1\" class=\"row_heading level0 row1\" >min</th>\n",
       "      <td id=\"T_bfacc_row1_col0\" class=\"data row1 col0\" >143.00</td>\n",
       "      <td id=\"T_bfacc_row1_col1\" class=\"data row1 col1\" >40.00</td>\n",
       "      <td id=\"T_bfacc_row1_col2\" class=\"data row1 col2\" >93.00</td>\n",
       "      <td id=\"T_bfacc_row1_col3\" class=\"data row1 col3\" >66.00</td>\n",
       "      <td id=\"T_bfacc_row1_col4\" class=\"data row1 col4\" >39.00</td>\n",
       "    </tr>\n",
       "    <tr>\n",
       "      <th id=\"T_bfacc_level0_row2\" class=\"row_heading level0 row2\" >max</th>\n",
       "      <td id=\"T_bfacc_row2_col0\" class=\"data row2 col0\" >186.00</td>\n",
       "      <td id=\"T_bfacc_row2_col1\" class=\"data row2 col1\" >107.00</td>\n",
       "      <td id=\"T_bfacc_row2_col2\" class=\"data row2 col2\" >169.00</td>\n",
       "      <td id=\"T_bfacc_row2_col3\" class=\"data row2 col3\" >104.00</td>\n",
       "      <td id=\"T_bfacc_row2_col4\" class=\"data row2 col4\" >64.00</td>\n",
       "    </tr>\n",
       "  </tbody>\n",
       "</table>\n"
      ],
      "text/plain": [
       "<pandas.io.formats.style.Styler at 0x27666c99e20>"
      ]
     },
     "execution_count": 60,
     "metadata": {},
     "output_type": "execute_result"
    }
   ],
   "source": [
    "# проверяем\n",
    "(\n",
    "    df[['height', 'weight', 'ap_hi', 'ap_lo', 'year']]\n",
    "    .apply (['count', 'min', 'max'])   \n",
    "    .style.format(\"{:,.2f}\")\n",
    ")"
   ]
  },
  {
   "cell_type": "code",
   "execution_count": 61,
   "id": "36816979",
   "metadata": {
    "execution": {
     "iopub.execute_input": "2023-02-27T17:31:36.810567Z",
     "iopub.status.busy": "2023-02-27T17:31:36.809579Z",
     "iopub.status.idle": "2023-02-27T17:31:36.827807Z",
     "shell.execute_reply": "2023-02-27T17:31:36.826813Z"
    },
    "papermill": {
     "duration": 0.059782,
     "end_time": "2023-02-27T17:31:36.830104",
     "exception": false,
     "start_time": "2023-02-27T17:31:36.770322",
     "status": "completed"
    },
    "tags": []
   },
   "outputs": [
    {
     "data": {
      "text/html": [
       "<style type=\"text/css\">\n",
       "</style>\n",
       "<table id=\"T_ef5d7\">\n",
       "  <thead>\n",
       "    <tr>\n",
       "      <th class=\"blank level0\" >&nbsp;</th>\n",
       "      <th id=\"T_ef5d7_level0_col0\" class=\"col_heading level0 col0\" >height</th>\n",
       "      <th id=\"T_ef5d7_level0_col1\" class=\"col_heading level0 col1\" >weight</th>\n",
       "      <th id=\"T_ef5d7_level0_col2\" class=\"col_heading level0 col2\" >ap_hi</th>\n",
       "      <th id=\"T_ef5d7_level0_col3\" class=\"col_heading level0 col3\" >ap_lo</th>\n",
       "      <th id=\"T_ef5d7_level0_col4\" class=\"col_heading level0 col4\" >year</th>\n",
       "    </tr>\n",
       "  </thead>\n",
       "  <tbody>\n",
       "    <tr>\n",
       "      <th id=\"T_ef5d7_level0_row0\" class=\"row_heading level0 row0\" >count</th>\n",
       "      <td id=\"T_ef5d7_row0_col0\" class=\"data row0 col0\" >29,784.00</td>\n",
       "      <td id=\"T_ef5d7_row0_col1\" class=\"data row0 col1\" >29,225.00</td>\n",
       "      <td id=\"T_ef5d7_row0_col2\" class=\"data row0 col2\" >28,707.00</td>\n",
       "      <td id=\"T_ef5d7_row0_col3\" class=\"data row0 col3\" >28,040.00</td>\n",
       "      <td id=\"T_ef5d7_row0_col4\" class=\"data row0 col4\" >29,993.00</td>\n",
       "    </tr>\n",
       "    <tr>\n",
       "      <th id=\"T_ef5d7_level0_row1\" class=\"row_heading level0 row1\" >min</th>\n",
       "      <td id=\"T_ef5d7_row1_col0\" class=\"data row1 col0\" >143.00</td>\n",
       "      <td id=\"T_ef5d7_row1_col1\" class=\"data row1 col1\" >40.00</td>\n",
       "      <td id=\"T_ef5d7_row1_col2\" class=\"data row1 col2\" >91.00</td>\n",
       "      <td id=\"T_ef5d7_row1_col3\" class=\"data row1 col3\" >66.00</td>\n",
       "      <td id=\"T_ef5d7_row1_col4\" class=\"data row1 col4\" >39.00</td>\n",
       "    </tr>\n",
       "    <tr>\n",
       "      <th id=\"T_ef5d7_level0_row2\" class=\"row_heading level0 row2\" >max</th>\n",
       "      <td id=\"T_ef5d7_row2_col0\" class=\"data row2 col0\" >186.00</td>\n",
       "      <td id=\"T_ef5d7_row2_col1\" class=\"data row2 col1\" >107.00</td>\n",
       "      <td id=\"T_ef5d7_row2_col2\" class=\"data row2 col2\" >169.00</td>\n",
       "      <td id=\"T_ef5d7_row2_col3\" class=\"data row2 col3\" >104.00</td>\n",
       "      <td id=\"T_ef5d7_row2_col4\" class=\"data row2 col4\" >64.00</td>\n",
       "    </tr>\n",
       "  </tbody>\n",
       "</table>\n"
      ],
      "text/plain": [
       "<pandas.io.formats.style.Styler at 0x2766d549bb0>"
      ]
     },
     "execution_count": 61,
     "metadata": {},
     "output_type": "execute_result"
    }
   ],
   "source": [
    "(\n",
    "    df_test[['height', 'weight', 'ap_hi', 'ap_lo', 'year']]\n",
    "    .apply (['count', 'min', 'max'])   \n",
    "    .style.format(\"{:,.2f}\")\n",
    ")"
   ]
  },
  {
   "cell_type": "markdown",
   "id": "703ad4b6",
   "metadata": {
    "papermill": {
     "duration": 0.039406,
     "end_time": "2023-02-27T17:31:36.908161",
     "exception": false,
     "start_time": "2023-02-27T17:31:36.868755",
     "status": "completed"
    },
    "tags": []
   },
   "source": [
    "****Result of the Section:****\n",
    "С выбросами справились"
   ]
  },
  {
   "cell_type": "code",
   "execution_count": 62,
   "id": "2716b106",
   "metadata": {
    "execution": {
     "iopub.execute_input": "2023-02-27T17:31:36.987727Z",
     "iopub.status.busy": "2023-02-27T17:31:36.987382Z",
     "iopub.status.idle": "2023-02-27T17:31:36.992969Z",
     "shell.execute_reply": "2023-02-27T17:31:36.992055Z"
    },
    "papermill": {
     "duration": 0.047499,
     "end_time": "2023-02-27T17:31:36.995291",
     "exception": false,
     "start_time": "2023-02-27T17:31:36.947792",
     "status": "completed"
    },
    "tags": []
   },
   "outputs": [
    {
     "data": {
      "text/plain": [
       "(69976, 12)"
      ]
     },
     "execution_count": 62,
     "metadata": {},
     "output_type": "execute_result"
    }
   ],
   "source": [
    "df.shape"
   ]
  },
  {
   "cell_type": "markdown",
   "id": "0466d3b5",
   "metadata": {
    "papermill": {
     "duration": 0.037951,
     "end_time": "2023-02-27T17:31:37.071983",
     "exception": false,
     "start_time": "2023-02-27T17:31:37.034032",
     "status": "completed"
    },
    "tags": []
   },
   "source": [
    "# ****Data processing****"
   ]
  },
  {
   "cell_type": "markdown",
   "id": "dc464b73",
   "metadata": {
    "papermill": {
     "duration": 0.039462,
     "end_time": "2023-02-27T17:31:37.149057",
     "exception": false,
     "start_time": "2023-02-27T17:31:37.109595",
     "status": "completed"
    },
    "tags": []
   },
   "source": [
    "****Подготовка данных****"
   ]
  },
  {
   "cell_type": "code",
   "execution_count": 63,
   "id": "2bb6aa56",
   "metadata": {
    "execution": {
     "iopub.execute_input": "2023-02-27T17:31:37.226528Z",
     "iopub.status.busy": "2023-02-27T17:31:37.226135Z",
     "iopub.status.idle": "2023-02-27T17:31:37.234157Z",
     "shell.execute_reply": "2023-02-27T17:31:37.233230Z"
    },
    "papermill": {
     "duration": 0.049186,
     "end_time": "2023-02-27T17:31:37.236300",
     "exception": false,
     "start_time": "2023-02-27T17:31:37.187114",
     "status": "completed"
    },
    "tags": []
   },
   "outputs": [
    {
     "data": {
      "text/plain": [
       "0    35004\n",
       "1    34972\n",
       "Name: cardio, dtype: int64"
      ]
     },
     "execution_count": 63,
     "metadata": {},
     "output_type": "execute_result"
    }
   ],
   "source": [
    "# проверим дисбаланс\n",
    "df['cardio'].value_counts()"
   ]
  },
  {
   "cell_type": "code",
   "execution_count": 64,
   "id": "c7dbef16",
   "metadata": {
    "execution": {
     "iopub.execute_input": "2023-02-27T17:31:37.314513Z",
     "iopub.status.busy": "2023-02-27T17:31:37.314090Z",
     "iopub.status.idle": "2023-02-27T17:31:37.321202Z",
     "shell.execute_reply": "2023-02-27T17:31:37.320222Z"
    },
    "papermill": {
     "duration": 0.04859,
     "end_time": "2023-02-27T17:31:37.323130",
     "exception": false,
     "start_time": "2023-02-27T17:31:37.274540",
     "status": "completed"
    },
    "tags": []
   },
   "outputs": [],
   "source": [
    "# целевой признак\n",
    "target = df['cardio']\n",
    "# признаки\n",
    "features = df.drop(['cardio'], axis=1) \n",
    "#features_test = df_test "
   ]
  },
  {
   "cell_type": "code",
   "execution_count": 65,
   "id": "a5cffdc9",
   "metadata": {
    "execution": {
     "iopub.execute_input": "2023-02-27T17:31:37.404288Z",
     "iopub.status.busy": "2023-02-27T17:31:37.403857Z",
     "iopub.status.idle": "2023-02-27T17:31:37.441302Z",
     "shell.execute_reply": "2023-02-27T17:31:37.439905Z"
    },
    "papermill": {
     "duration": 0.082073,
     "end_time": "2023-02-27T17:31:37.443661",
     "exception": false,
     "start_time": "2023-02-27T17:31:37.361588",
     "status": "completed"
    },
    "tags": []
   },
   "outputs": [
    {
     "name": "stdout",
     "output_type": "stream",
     "text": [
      "(48983, 11) (20993, 11)\n",
      "(48983,) (20993,)\n"
     ]
    }
   ],
   "source": [
    "# разобьем исходные данные на две выборки: обучающую и тестовую (70% / 30%)\n",
    "features_train, features_test, target_train, target_test = train_test_split(features, \n",
    "                                                                            target, \n",
    "                                                                            stratify=target, \n",
    "                                                                            test_size = 0.3, \n",
    "                                                                            random_state = 12345)\n",
    "print(features_train.shape, features_test.shape)\n",
    "print(target_train.shape, target_test.shape)"
   ]
  },
  {
   "cell_type": "code",
   "execution_count": 66,
   "id": "775f4ebb",
   "metadata": {
    "execution": {
     "iopub.execute_input": "2023-02-27T17:31:37.524464Z",
     "iopub.status.busy": "2023-02-27T17:31:37.523486Z",
     "iopub.status.idle": "2023-02-27T17:31:37.530236Z",
     "shell.execute_reply": "2023-02-27T17:31:37.529148Z"
    },
    "papermill": {
     "duration": 0.049353,
     "end_time": "2023-02-27T17:31:37.532269",
     "exception": false,
     "start_time": "2023-02-27T17:31:37.482916",
     "status": "completed"
    },
    "tags": []
   },
   "outputs": [],
   "source": [
    "features_train.fillna(0, inplace=True)\n",
    "features_test.fillna(0, inplace=True)"
   ]
  },
  {
   "cell_type": "code",
   "execution_count": 67,
   "id": "a7d0cdd5",
   "metadata": {
    "execution": {
     "iopub.execute_input": "2023-02-27T17:31:37.612732Z",
     "iopub.status.busy": "2023-02-27T17:31:37.612373Z",
     "iopub.status.idle": "2023-02-27T17:31:37.662566Z",
     "shell.execute_reply": "2023-02-27T17:31:37.661531Z"
    },
    "papermill": {
     "duration": 0.092221,
     "end_time": "2023-02-27T17:31:37.664852",
     "exception": false,
     "start_time": "2023-02-27T17:31:37.572631",
     "status": "completed"
    },
    "tags": []
   },
   "outputs": [
    {
     "data": {
      "text/html": [
       "<div>\n",
       "<style scoped>\n",
       "    .dataframe tbody tr th:only-of-type {\n",
       "        vertical-align: middle;\n",
       "    }\n",
       "\n",
       "    .dataframe tbody tr th {\n",
       "        vertical-align: top;\n",
       "    }\n",
       "\n",
       "    .dataframe thead th {\n",
       "        text-align: right;\n",
       "    }\n",
       "</style>\n",
       "<table border=\"1\" class=\"dataframe\">\n",
       "  <thead>\n",
       "    <tr style=\"text-align: right;\">\n",
       "      <th></th>\n",
       "      <th>gender</th>\n",
       "      <th>height</th>\n",
       "      <th>weight</th>\n",
       "      <th>ap_hi</th>\n",
       "      <th>ap_lo</th>\n",
       "      <th>cholesterol</th>\n",
       "      <th>gluc</th>\n",
       "      <th>smoke</th>\n",
       "      <th>alco</th>\n",
       "      <th>active</th>\n",
       "      <th>year</th>\n",
       "    </tr>\n",
       "  </thead>\n",
       "  <tbody>\n",
       "    <tr>\n",
       "      <th>4747</th>\n",
       "      <td>-0.734423</td>\n",
       "      <td>-0.204284</td>\n",
       "      <td>0.343585</td>\n",
       "      <td>-0.025052</td>\n",
       "      <td>0.164532</td>\n",
       "      <td>-0.539401</td>\n",
       "      <td>-0.395775</td>\n",
       "      <td>-0.312031</td>\n",
       "      <td>-0.236952</td>\n",
       "      <td>0.492953</td>\n",
       "      <td>0.617976</td>\n",
       "    </tr>\n",
       "    <tr>\n",
       "      <th>33596</th>\n",
       "      <td>1.361612</td>\n",
       "      <td>0.488255</td>\n",
       "      <td>0.934445</td>\n",
       "      <td>1.166510</td>\n",
       "      <td>0.619425</td>\n",
       "      <td>2.401713</td>\n",
       "      <td>-0.395775</td>\n",
       "      <td>-0.312031</td>\n",
       "      <td>4.220270</td>\n",
       "      <td>0.492953</td>\n",
       "      <td>0.323064</td>\n",
       "    </tr>\n",
       "    <tr>\n",
       "      <th>45702</th>\n",
       "      <td>-0.734423</td>\n",
       "      <td>-0.015410</td>\n",
       "      <td>0.048155</td>\n",
       "      <td>-0.025052</td>\n",
       "      <td>0.164532</td>\n",
       "      <td>-0.539401</td>\n",
       "      <td>-0.395775</td>\n",
       "      <td>-0.312031</td>\n",
       "      <td>-0.236952</td>\n",
       "      <td>0.492953</td>\n",
       "      <td>-0.856582</td>\n",
       "    </tr>\n",
       "    <tr>\n",
       "      <th>32268</th>\n",
       "      <td>-0.734423</td>\n",
       "      <td>-0.582032</td>\n",
       "      <td>-0.483619</td>\n",
       "      <td>-0.025052</td>\n",
       "      <td>0.164532</td>\n",
       "      <td>-0.539401</td>\n",
       "      <td>-0.395775</td>\n",
       "      <td>-0.312031</td>\n",
       "      <td>-0.236952</td>\n",
       "      <td>0.492953</td>\n",
       "      <td>-0.266759</td>\n",
       "    </tr>\n",
       "    <tr>\n",
       "      <th>345</th>\n",
       "      <td>-0.734423</td>\n",
       "      <td>-0.582032</td>\n",
       "      <td>0.579929</td>\n",
       "      <td>0.655841</td>\n",
       "      <td>-3.474613</td>\n",
       "      <td>0.931156</td>\n",
       "      <td>-0.395775</td>\n",
       "      <td>-0.312031</td>\n",
       "      <td>-0.236952</td>\n",
       "      <td>0.492953</td>\n",
       "      <td>-0.266759</td>\n",
       "    </tr>\n",
       "  </tbody>\n",
       "</table>\n",
       "</div>"
      ],
      "text/plain": [
       "         gender    height    weight     ap_hi     ap_lo  cholesterol  \\\n",
       "4747  -0.734423 -0.204284  0.343585 -0.025052  0.164532    -0.539401   \n",
       "33596  1.361612  0.488255  0.934445  1.166510  0.619425     2.401713   \n",
       "45702 -0.734423 -0.015410  0.048155 -0.025052  0.164532    -0.539401   \n",
       "32268 -0.734423 -0.582032 -0.483619 -0.025052  0.164532    -0.539401   \n",
       "345   -0.734423 -0.582032  0.579929  0.655841 -3.474613     0.931156   \n",
       "\n",
       "           gluc     smoke      alco    active      year  \n",
       "4747  -0.395775 -0.312031 -0.236952  0.492953  0.617976  \n",
       "33596 -0.395775 -0.312031  4.220270  0.492953  0.323064  \n",
       "45702 -0.395775 -0.312031 -0.236952  0.492953 -0.856582  \n",
       "32268 -0.395775 -0.312031 -0.236952  0.492953 -0.266759  \n",
       "345   -0.395775 -0.312031 -0.236952  0.492953 -0.266759  "
      ]
     },
     "execution_count": 67,
     "metadata": {},
     "output_type": "execute_result"
    }
   ],
   "source": [
    "# стандартизируем (масштабируем) признаки\n",
    "numeric = ['gender', 'height', 'weight', 'ap_hi', 'ap_lo', 'cholesterol', 'gluc',\n",
    "       'smoke', 'alco', 'active', 'year']\n",
    "scaler = StandardScaler()\n",
    "scaler.fit(features_train[numeric])\n",
    "features_train[numeric] = scaler.transform(features_train[numeric])\n",
    "features_test[numeric] = scaler.transform(features_test[numeric])\n",
    "# проверим результат\n",
    "features_train.head(5)"
   ]
  },
  {
   "cell_type": "markdown",
   "id": "0f03a3a2",
   "metadata": {
    "papermill": {
     "duration": 0.038441,
     "end_time": "2023-02-27T17:31:37.741328",
     "exception": false,
     "start_time": "2023-02-27T17:31:37.702887",
     "status": "completed"
    },
    "tags": []
   },
   "source": [
    "****Выбор модели по лучшим показателям****\n"
   ]
  },
  {
   "cell_type": "code",
   "execution_count": null,
   "id": "10b5e0b1",
   "metadata": {
    "papermill": {
     "duration": 0.038625,
     "end_time": "2023-02-27T17:31:37.819246",
     "exception": false,
     "start_time": "2023-02-27T17:31:37.780621",
     "status": "completed"
    },
    "tags": []
   },
   "outputs": [],
   "source": []
  },
  {
   "cell_type": "code",
   "execution_count": 68,
   "id": "c464ff2e",
   "metadata": {
    "execution": {
     "iopub.execute_input": "2023-02-27T17:31:37.900066Z",
     "iopub.status.busy": "2023-02-27T17:31:37.899585Z",
     "iopub.status.idle": "2023-02-27T17:31:38.757404Z",
     "shell.execute_reply": "2023-02-27T17:31:38.755796Z"
    },
    "papermill": {
     "duration": 0.902894,
     "end_time": "2023-02-27T17:31:38.761492",
     "exception": false,
     "start_time": "2023-02-27T17:31:37.858598",
     "status": "completed"
    },
    "tags": []
   },
   "outputs": [
    {
     "name": "stdout",
     "output_type": "stream",
     "text": [
      "Accuracy:    0.6536\n",
      "Recall:      0.6347\n",
      "Precision:   0.6557\n",
      "F1:          0.6450\n",
      "ROC_auc:     0.7040\n",
      "\n",
      "Кросс-валидация Recall:  0.6362\n",
      "CPU times: total: 1.02 s\n",
      "Wall time: 675 ms\n"
     ]
    }
   ],
   "source": [
    "%%time\n",
    "# определяем вид модели и ее гиперпараметры\n",
    "model_lr = LogisticRegression(random_state=12345, solver='liblinear', class_weight='balanced')\n",
    "\n",
    "# обучаем модель на обучающем наборе данных\n",
    "model_lr.fit(features_train, target_train)\n",
    "\n",
    "# предсказания модели\n",
    "prediction_lr = model_lr.predict(features_test)\n",
    "\n",
    "print(\"Accuracy:    {:.4f}\".format(model_lr.score(features_train, target_train)))\n",
    "print(\"Recall:      {:.4f}\".format(recall_score(target_test, prediction_lr)))\n",
    "print(\"Precision:   {:.4f}\".format(precision_score(target_test, prediction_lr)))\n",
    "print(\"F1:          {:.4f}\".format(f1_score(target_test, prediction_lr)))\n",
    "\n",
    "probavilities_valid_lr = model_lr.predict_proba(features_train)\n",
    "probavilities_one_valid_lr = probavilities_valid_lr[:,1]\n",
    "print(\"ROC_auc:     {:.4f}\".format(roc_auc_score(target_train, probavilities_one_valid_lr)))\n",
    "\n",
    "print('')\n",
    "score_lr = cross_val_score(model_lr, features_train, target_train, cv=5, scoring='recall').mean()\n",
    "print('Кросс-валидация Recall:  {:.4f}'.format(score_lr))"
   ]
  },
  {
   "cell_type": "code",
   "execution_count": 69,
   "id": "571737de",
   "metadata": {
    "execution": {
     "iopub.execute_input": "2023-02-27T17:31:38.906014Z",
     "iopub.status.busy": "2023-02-27T17:31:38.905569Z",
     "iopub.status.idle": "2023-02-27T17:32:05.643283Z",
     "shell.execute_reply": "2023-02-27T17:32:05.641962Z"
    },
    "papermill": {
     "duration": 26.784628,
     "end_time": "2023-02-27T17:32:05.646284",
     "exception": false,
     "start_time": "2023-02-27T17:31:38.861656",
     "status": "completed"
    },
    "tags": []
   },
   "outputs": [
    {
     "name": "stdout",
     "output_type": "stream",
     "text": [
      "Accuracy:    0.8820\n",
      "Recall:      0.6862\n",
      "Precision:   0.7385\n",
      "F1:          0.7229 cо значением глубины = 14 количество деревьев = 20\n",
      "ROC_auc:     0.9507\n",
      "\n",
      "Кросс-валидация Recall:  0.6837\n",
      "CPU times: total: 22.7 s\n",
      "Wall time: 25.1 s\n"
     ]
    }
   ],
   "source": [
    "%%time\n",
    "best_model3 = None\n",
    "best_rezult3 = 0\n",
    "best_depth3 = 0\n",
    "best_est3 = 0\n",
    "for estimator in range(10, 30, 10):\n",
    "    for depth in range(1, 20):\n",
    "        # определяем вид модели и ее гиперпараметры\n",
    "        model_rf = RandomForestClassifier(random_state=12345, n_estimators=estimator, \n",
    "                                           max_depth = depth, class_weight='balanced')\n",
    "    \n",
    "        # обучаем модель на обучающем наборе данных\n",
    "        model_rf.fit(features_train, target_train)\n",
    "    \n",
    "        # предсказания модели\n",
    "        prediction_rf = model_rf.predict(features_test)\n",
    "    \n",
    "        # находим F1-меру\n",
    "        rezult3 = f1_score(target_test, prediction_rf)\n",
    "                \n",
    "        if best_rezult3 < rezult3:\n",
    "            best_model3 = model_rf\n",
    "            best_rezult3 = rezult3\n",
    "            best_depth3 = depth\n",
    "            best_est3 = estimator\n",
    "\n",
    "print(\"Accuracy:    {:.4f}\".format(model_rf.score(features_train, target_train)))\n",
    "print(\"Recall:      {:.4f}\".format(recall_score(target_test, prediction_rf)))\n",
    "print(\"Precision:   {:.4f}\".format(precision_score(target_test, prediction_rf)))\n",
    "print(\"F1:          {:.4f}\".format(best_rezult3), 'cо значением глубины =', best_depth3, 'количество деревьев =', best_est3)    \n",
    "\n",
    "probavilities_valid_rf = model_rf.predict_proba(features_train)\n",
    "probavilities_one_valid_rf = probavilities_valid_rf[:,1]\n",
    "print(\"ROC_auc:     {:.4f}\".format(roc_auc_score(target_train, probavilities_one_valid_rf)))\n",
    "\n",
    "print('')            \n",
    "score_rf = cross_val_score(model_rf, features_train, target_train, cv=5, scoring='recall').mean() \n",
    "print('Кросс-валидация Recall:  {:.4f}'.format(score_rf))"
   ]
  },
  {
   "cell_type": "code",
   "execution_count": 70,
   "id": "4c39c4e3",
   "metadata": {
    "execution": {
     "iopub.execute_input": "2023-02-27T17:32:05.729726Z",
     "iopub.status.busy": "2023-02-27T17:32:05.729358Z",
     "iopub.status.idle": "2023-02-27T17:32:07.200123Z",
     "shell.execute_reply": "2023-02-27T17:32:07.198781Z"
    },
    "papermill": {
     "duration": 1.515472,
     "end_time": "2023-02-27T17:32:07.203710",
     "exception": false,
     "start_time": "2023-02-27T17:32:05.688238",
     "status": "completed"
    },
    "tags": []
   },
   "outputs": [
    {
     "name": "stdout",
     "output_type": "stream",
     "text": [
      "Accuracy:    0.7411\n",
      "Recall:      0.6930\n",
      "Precision:   0.7391\n",
      "F1:          0.7153 cо значением глубины = 9\n",
      "ROC_auc:     0.8109\n",
      "\n",
      "Кросс-валидация Recall:  0.6755\n",
      "CPU times: total: 1.17 s\n",
      "Wall time: 1.18 s\n"
     ]
    }
   ],
   "source": [
    "%%time\n",
    "best_model2 = None\n",
    "best_rezult2 = 0\n",
    "for depth in range(1, 10):\n",
    "    # определяем вид модели и ее гиперпараметры\n",
    "    model_df = DecisionTreeClassifier(random_state=12345, max_depth=depth, class_weight='balanced')\n",
    "    \n",
    "    # обучаем модель на обучающем наборе данных\n",
    "    model_df.fit(features_train, target_train)\n",
    "    \n",
    "    # предсказания модели\n",
    "    prediction_df = model_df.predict(features_test)\n",
    "\n",
    "    # находим F1-меру\n",
    "    rezult2 = f1_score(target_test, prediction_df)\n",
    "    \n",
    "    if best_rezult2 < rezult2:\n",
    "        best_rezult2 = rezult2\n",
    "        max_depth2 = depth\n",
    "        best_model2 = model_df\n",
    "    \n",
    "print(\"Accuracy:    {:.4f}\".format(model_df.score(features_train, target_train)))\n",
    "print(\"Recall:      {:.4f}\".format(recall_score(target_test, prediction_df)))\n",
    "print(\"Precision:   {:.4f}\".format(precision_score(target_test, prediction_df)))\n",
    "print(\"F1:          {:.4f}\".format(best_rezult2), 'cо значением глубины =', max_depth2)    \n",
    "\n",
    "probavilities_valid_df = model_df.predict_proba(features_train)\n",
    "probavilities_one_valid_df = probavilities_valid_df[:,1]\n",
    "print(\"ROC_auc:     {:.4f}\".format(roc_auc_score(target_train, probavilities_one_valid_df)))\n",
    "\n",
    "print('')\n",
    "score_df = cross_val_score(model_df, features_train, target_train, cv=5, scoring='recall').mean()\n",
    "print('Кросс-валидация Recall:  {:.4f}'.format(score_df))"
   ]
  },
  {
   "cell_type": "code",
   "execution_count": 71,
   "id": "095d5e02",
   "metadata": {
    "execution": {
     "iopub.execute_input": "2023-02-27T17:32:07.289530Z",
     "iopub.status.busy": "2023-02-27T17:32:07.289109Z",
     "iopub.status.idle": "2023-02-27T17:32:07.738128Z",
     "shell.execute_reply": "2023-02-27T17:32:07.736933Z"
    },
    "papermill": {
     "duration": 0.494832,
     "end_time": "2023-02-27T17:32:07.740789",
     "exception": false,
     "start_time": "2023-02-27T17:32:07.245957",
     "status": "completed"
    },
    "tags": []
   },
   "outputs": [
    {
     "data": {
      "text/html": [
       "<div>\n",
       "<style scoped>\n",
       "    .dataframe tbody tr th:only-of-type {\n",
       "        vertical-align: middle;\n",
       "    }\n",
       "\n",
       "    .dataframe tbody tr th {\n",
       "        vertical-align: top;\n",
       "    }\n",
       "\n",
       "    .dataframe thead th {\n",
       "        text-align: right;\n",
       "    }\n",
       "</style>\n",
       "<table border=\"1\" class=\"dataframe\">\n",
       "  <thead>\n",
       "    <tr style=\"text-align: right;\">\n",
       "      <th></th>\n",
       "      <th>Model</th>\n",
       "      <th>Accuracy</th>\n",
       "      <th>Recall</th>\n",
       "      <th>Precision</th>\n",
       "      <th>F1</th>\n",
       "      <th>ROC_auc</th>\n",
       "      <th>Кросс-валидация Recall</th>\n",
       "    </tr>\n",
       "  </thead>\n",
       "  <tbody>\n",
       "    <tr>\n",
       "      <th>0</th>\n",
       "      <td>Logistic Regression</td>\n",
       "      <td>0.653553</td>\n",
       "      <td>0.634674</td>\n",
       "      <td>0.655736</td>\n",
       "      <td>0.645033</td>\n",
       "      <td>0.703976</td>\n",
       "      <td>0.636193</td>\n",
       "    </tr>\n",
       "    <tr>\n",
       "      <th>1</th>\n",
       "      <td>Decision Tree Classifier</td>\n",
       "      <td>0.741073</td>\n",
       "      <td>0.693004</td>\n",
       "      <td>0.739148</td>\n",
       "      <td>0.715333</td>\n",
       "      <td>0.810915</td>\n",
       "      <td>0.675531</td>\n",
       "    </tr>\n",
       "    <tr>\n",
       "      <th>2</th>\n",
       "      <td>Random Forest Classifier</td>\n",
       "      <td>0.882000</td>\n",
       "      <td>0.686237</td>\n",
       "      <td>0.738537</td>\n",
       "      <td>0.711427</td>\n",
       "      <td>0.950705</td>\n",
       "      <td>0.683742</td>\n",
       "    </tr>\n",
       "  </tbody>\n",
       "</table>\n",
       "</div>"
      ],
      "text/plain": [
       "                      Model  Accuracy    Recall  Precision        F1  \\\n",
       "0       Logistic Regression  0.653553  0.634674   0.655736  0.645033   \n",
       "1  Decision Tree Classifier  0.741073  0.693004   0.739148  0.715333   \n",
       "2  Random Forest Classifier  0.882000  0.686237   0.738537  0.711427   \n",
       "\n",
       "    ROC_auc  Кросс-валидация Recall  \n",
       "0  0.703976                0.636193  \n",
       "1  0.810915                0.675531  \n",
       "2  0.950705                0.683742  "
      ]
     },
     "execution_count": 71,
     "metadata": {},
     "output_type": "execute_result"
    }
   ],
   "source": [
    "#Функция для сверки результатов\n",
    "best_metrics = pd.DataFrame(data=[('Logistic Regression', model_lr.score(features_train, target_train), \n",
    "                                  recall_score(target_test, prediction_lr), \n",
    "                                  precision_score(target_test, prediction_lr),\n",
    "                                  f1_score(target_test, prediction_lr),\n",
    "                                  roc_auc_score(target_train, probavilities_one_valid_lr),\n",
    "                                  score_lr),\n",
    "                                  ('Decision Tree Classifier', model_df.score(features_train, target_train), \n",
    "                                  recall_score(target_test, prediction_df),\n",
    "                                  precision_score(target_test, prediction_df),\n",
    "                                  best_rezult2,\n",
    "                                  roc_auc_score(target_train, probavilities_one_valid_df),\n",
    "                                  score_df),\n",
    "                                  ('Random Forest Classifier', model_rf.score(features_train, target_train), \n",
    "                                  recall_score(target_test, prediction_rf), \n",
    "                                  precision_score(target_test, prediction_rf),\n",
    "                                  f1_score(target_test, prediction_rf),\n",
    "                                  roc_auc_score(target_train, probavilities_one_valid_rf),\n",
    "                                  score_rf)\n",
    "                                 ],                                  \n",
    "                                 columns=['Model', 'Accuracy', 'Recall', 'Precision','F1','ROC_auc', 'Кросс-валидация Recall'])\n",
    "best_metrics"
   ]
  },
  {
   "cell_type": "markdown",
   "id": "6accb1d0",
   "metadata": {
    "papermill": {
     "duration": 0.043441,
     "end_time": "2023-02-27T17:32:07.826430",
     "exception": false,
     "start_time": "2023-02-27T17:32:07.782989",
     "status": "completed"
    },
    "tags": []
   },
   "source": [
    "***Оновываясь на данных победила модель Random Forest Classifier***"
   ]
  },
  {
   "cell_type": "code",
   "execution_count": 72,
   "id": "18b4a1f6",
   "metadata": {
    "execution": {
     "iopub.execute_input": "2023-02-27T17:32:07.914133Z",
     "iopub.status.busy": "2023-02-27T17:32:07.913036Z",
     "iopub.status.idle": "2023-02-27T17:32:07.920172Z",
     "shell.execute_reply": "2023-02-27T17:32:07.919395Z"
    },
    "papermill": {
     "duration": 0.052469,
     "end_time": "2023-02-27T17:32:07.922275",
     "exception": false,
     "start_time": "2023-02-27T17:32:07.869806",
     "status": "completed"
    },
    "tags": []
   },
   "outputs": [],
   "source": [
    "df_test.fillna(0, inplace=True)\n",
    "df.fillna(0, inplace=True)"
   ]
  },
  {
   "cell_type": "code",
   "execution_count": 73,
   "id": "2fe19aea",
   "metadata": {
    "execution": {
     "iopub.execute_input": "2023-02-27T17:32:08.005946Z",
     "iopub.status.busy": "2023-02-27T17:32:08.005022Z",
     "iopub.status.idle": "2023-02-27T17:32:08.721017Z",
     "shell.execute_reply": "2023-02-27T17:32:08.719988Z"
    },
    "papermill": {
     "duration": 0.760813,
     "end_time": "2023-02-27T17:32:08.723656",
     "exception": false,
     "start_time": "2023-02-27T17:32:07.962843",
     "status": "completed"
    },
    "tags": []
   },
   "outputs": [],
   "source": [
    "model_best = RandomForestClassifier(random_state=12345, n_estimators=11, \n",
    "                                           max_depth = 20, class_weight='balanced')\n",
    "    \n",
    "# обучаем модель на обучающем наборе данных\n",
    "model_best.fit(features_train, target_train)\n",
    " \n",
    "# предсказания модели\n",
    "predictions_best = model_best.predict(features_test)\n",
    "\n",
    "pred = model_best.predict_proba(df_test)\n",
    "pred = pred[:,1]"
   ]
  },
  {
   "cell_type": "code",
   "execution_count": 74,
   "id": "00a9f519",
   "metadata": {
    "execution": {
     "iopub.execute_input": "2023-02-27T17:32:08.807040Z",
     "iopub.status.busy": "2023-02-27T17:32:08.806587Z",
     "iopub.status.idle": "2023-02-27T17:32:08.812957Z",
     "shell.execute_reply": "2023-02-27T17:32:08.811947Z"
    },
    "papermill": {
     "duration": 0.050161,
     "end_time": "2023-02-27T17:32:08.815161",
     "exception": false,
     "start_time": "2023-02-27T17:32:08.765000",
     "status": "completed"
    },
    "tags": []
   },
   "outputs": [
    {
     "data": {
      "text/plain": [
       "(30000,)"
      ]
     },
     "execution_count": 74,
     "metadata": {},
     "output_type": "execute_result"
    }
   ],
   "source": [
    "pred.shape"
   ]
  },
  {
   "cell_type": "code",
   "execution_count": 94,
   "id": "decea990",
   "metadata": {},
   "outputs": [],
   "source": [
    "import pickle"
   ]
  },
  {
   "cell_type": "code",
   "execution_count": 95,
   "id": "91aa3936",
   "metadata": {},
   "outputs": [],
   "source": [
    "from pickle import dump, load\n",
    "with open(\"c:/project-new/model.pcl\", \"wb\") as fid:\n",
    "     dump(model_best, fid)"
   ]
  },
  {
   "cell_type": "code",
   "execution_count": null,
   "id": "d9e5a4bc",
   "metadata": {},
   "outputs": [],
   "source": [
    "\n"
   ]
  },
  {
   "cell_type": "code",
   "execution_count": 76,
   "id": "eb9c8597",
   "metadata": {
    "execution": {
     "iopub.execute_input": "2023-02-27T17:32:08.897255Z",
     "iopub.status.busy": "2023-02-27T17:32:08.896836Z",
     "iopub.status.idle": "2023-02-27T17:32:08.917783Z",
     "shell.execute_reply": "2023-02-27T17:32:08.915836Z"
    },
    "papermill": {
     "duration": 0.065144,
     "end_time": "2023-02-27T17:32:08.920320",
     "exception": false,
     "start_time": "2023-02-27T17:32:08.855176",
     "status": "completed"
    },
    "tags": []
   },
   "outputs": [],
   "source": [
    "#df_itog=pd.read_csv('/kaggle/input/yap15-heart-diseases-predictions/sample_submission.csv')\n",
    "#print (df_itog.shape)"
   ]
  },
  {
   "cell_type": "code",
   "execution_count": 77,
   "id": "19bb555e",
   "metadata": {
    "execution": {
     "iopub.execute_input": "2023-02-27T17:32:09.005474Z",
     "iopub.status.busy": "2023-02-27T17:32:09.004357Z",
     "iopub.status.idle": "2023-02-27T17:32:09.015147Z",
     "shell.execute_reply": "2023-02-27T17:32:09.014027Z"
    },
    "papermill": {
     "duration": 0.05555,
     "end_time": "2023-02-27T17:32:09.017404",
     "exception": false,
     "start_time": "2023-02-27T17:32:08.961854",
     "status": "completed"
    },
    "tags": []
   },
   "outputs": [],
   "source": [
    "#df_itog.head(10)"
   ]
  },
  {
   "cell_type": "code",
   "execution_count": 78,
   "id": "93e476b6",
   "metadata": {
    "execution": {
     "iopub.execute_input": "2023-02-27T17:32:09.099829Z",
     "iopub.status.busy": "2023-02-27T17:32:09.099058Z",
     "iopub.status.idle": "2023-02-27T17:32:09.105624Z",
     "shell.execute_reply": "2023-02-27T17:32:09.104866Z"
    },
    "papermill": {
     "duration": 0.050048,
     "end_time": "2023-02-27T17:32:09.107642",
     "exception": false,
     "start_time": "2023-02-27T17:32:09.057594",
     "status": "completed"
    },
    "tags": []
   },
   "outputs": [],
   "source": [
    "#df_itog['cardio']=pred\n",
    "#df_itog = df_itog[['id','cardio']]"
   ]
  },
  {
   "cell_type": "code",
   "execution_count": 79,
   "id": "5bc71453",
   "metadata": {
    "execution": {
     "iopub.execute_input": "2023-02-27T17:32:09.190371Z",
     "iopub.status.busy": "2023-02-27T17:32:09.189340Z",
     "iopub.status.idle": "2023-02-27T17:32:09.199235Z",
     "shell.execute_reply": "2023-02-27T17:32:09.198182Z"
    },
    "papermill": {
     "duration": 0.052745,
     "end_time": "2023-02-27T17:32:09.201349",
     "exception": false,
     "start_time": "2023-02-27T17:32:09.148604",
     "status": "completed"
    },
    "tags": []
   },
   "outputs": [],
   "source": [
    "#df_itog.head(10)"
   ]
  },
  {
   "cell_type": "code",
   "execution_count": 80,
   "id": "5c1b0dd5",
   "metadata": {
    "execution": {
     "iopub.execute_input": "2023-02-27T17:32:09.284793Z",
     "iopub.status.busy": "2023-02-27T17:32:09.284375Z",
     "iopub.status.idle": "2023-02-27T17:32:09.354612Z",
     "shell.execute_reply": "2023-02-27T17:32:09.353595Z"
    },
    "papermill": {
     "duration": 0.115456,
     "end_time": "2023-02-27T17:32:09.357172",
     "exception": false,
     "start_time": "2023-02-27T17:32:09.241716",
     "status": "completed"
    },
    "tags": []
   },
   "outputs": [],
   "source": [
    "#df_itog.to_csv('/kaggle/working/submission.csv', index=False)"
   ]
  },
  {
   "cell_type": "code",
   "execution_count": null,
   "id": "7b31ffa7",
   "metadata": {
    "papermill": {
     "duration": 0.040239,
     "end_time": "2023-02-27T17:32:09.438377",
     "exception": false,
     "start_time": "2023-02-27T17:32:09.398138",
     "status": "completed"
    },
    "tags": []
   },
   "outputs": [],
   "source": []
  }
 ],
 "metadata": {
  "kernelspec": {
   "display_name": "Python 3",
   "language": "python",
   "name": "python3"
  },
  "language_info": {
   "codemirror_mode": {
    "name": "ipython",
    "version": 3
   },
   "file_extension": ".py",
   "mimetype": "text/x-python",
   "name": "python",
   "nbconvert_exporter": "python",
   "pygments_lexer": "ipython3",
   "version": "3.9.12"
  },
  "papermill": {
   "default_parameters": {},
   "duration": 60.3423,
   "end_time": "2023-02-27T17:32:10.302349",
   "environment_variables": {},
   "exception": null,
   "input_path": "__notebook__.ipynb",
   "output_path": "__notebook__.ipynb",
   "parameters": {},
   "start_time": "2023-02-27T17:31:09.960049",
   "version": "2.3.4"
  }
 },
 "nbformat": 4,
 "nbformat_minor": 5
}
